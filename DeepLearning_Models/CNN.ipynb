{
 "cells": [
  {
   "metadata": {
    "ExecuteTime": {
     "end_time": "2024-12-05T13:55:42.370456Z",
     "start_time": "2024-12-05T13:55:38.120106Z"
    }
   },
   "cell_type": "code",
   "source": [
    "import numpy as np\n",
    "import pandas as pd\n",
    "import matplotlib.pyplot as plt\n",
    "import seaborn as sns\n",
    "from sklearn.metrics import classification_report, confusion_matrix\n",
    "from keras import Sequential, Input\n",
    "from keras.src.layers import Conv1D, MaxPooling1D, Dropout, GlobalMaxPooling1D, Dense\n",
    "from keras.src.utils import to_categorical\n",
    "from sklearn.preprocessing import StandardScaler\n"
   ],
   "id": "12c856273e694b54",
   "outputs": [],
   "execution_count": 1
  },
  {
   "metadata": {
    "ExecuteTime": {
     "end_time": "2024-12-05T13:55:46.593110Z",
     "start_time": "2024-12-05T13:55:42.373522Z"
    }
   },
   "cell_type": "code",
   "source": [
    "df = pd.read_csv('../Data/combined_data.csv')\n",
    "df = df[df['speed'] == 2]\n",
    "df = df[df['node-id'] == 563]\n",
    "df = df.reset_index(drop=True)\n"
   ],
   "id": "2ab81f0f7f17f284",
   "outputs": [],
   "execution_count": 2
  },
  {
   "metadata": {
    "ExecuteTime": {
     "end_time": "2024-12-05T13:55:46.696020Z",
     "start_time": "2024-12-05T13:55:46.672622Z"
    }
   },
   "cell_type": "code",
   "source": [
    "# Divide the data into classes.\n",
    "num_classes = 3\n",
    "df['weight_class'] = pd.qcut(df['weight'], q=num_classes, labels=False)"
   ],
   "id": "923a1fc5795dccb9",
   "outputs": [],
   "execution_count": 3
  },
  {
   "metadata": {
    "ExecuteTime": {
     "end_time": "2024-12-05T13:55:46.731949Z",
     "start_time": "2024-12-05T13:55:46.705156Z"
    }
   },
   "cell_type": "code",
   "source": [
    "# Group the DataFrame by 'weight_class' and get unique 'weight' in each group\n",
    "weights_by_class= df.groupby('weight_class')['weight'].unique()\n",
    "\n",
    "# Sort the weights in each class\n",
    "weights_by_class= weights_by_class.apply(lambda x: sorted(list(x)))\n",
    "\n",
    "weights_by_class"
   ],
   "id": "5a213352da6e74af",
   "outputs": [
    {
     "data": {
      "text/plain": [
       "weight_class\n",
       "0    [84.5, 86.25, 87.35, 89.15, 90.5, 91.95]\n",
       "1              [93.4, 94.7, 96.3, 97.5, 99.1]\n",
       "2         [100.5, 101.7, 103.0, 104.3, 105.7]\n",
       "Name: weight, dtype: object"
      ]
     },
     "execution_count": 4,
     "metadata": {},
     "output_type": "execute_result"
    }
   ],
   "execution_count": 4
  },
  {
   "metadata": {
    "ExecuteTime": {
     "end_time": "2024-12-05T13:55:47.151244Z",
     "start_time": "2024-12-05T13:55:46.734955Z"
    }
   },
   "cell_type": "code",
   "source": [
    "def split(df):\n",
    "    df_train = pd.DataFrame()\n",
    "    df_test = pd.DataFrame()\n",
    "\n",
    "    for weight_class, weights in weights_by_class.items():\n",
    "        test_indices = [1, 3] # Choose test indices \n",
    "        test_weights = [weights[i] for i in test_indices]\n",
    "        train_weights = [weight for i, weight in enumerate(weights) if i not in test_indices]\n",
    "\n",
    "        df_train = pd.concat([df_train, df[df['weight'].isin(train_weights) & (df['weight_class'] == weight_class)]], ignore_index=True)\n",
    "        df_test = pd.concat([df_test, df[df['weight'].isin(test_weights) & (df['weight_class'] == weight_class)]], ignore_index=True)\n",
    "\n",
    "    df_train = df_train.reset_index(drop=True)\n",
    "    df_test = df_test.reset_index(drop=True)\n",
    "\n",
    "    return df_train, df_test\n",
    "\n",
    "df_train, df_test = split(df)"
   ],
   "id": "40ea32d69bd6633a",
   "outputs": [],
   "execution_count": 5
  },
  {
   "metadata": {
    "ExecuteTime": {
     "end_time": "2024-12-05T13:55:47.169533Z",
     "start_time": "2024-12-05T13:55:47.166965Z"
    }
   },
   "cell_type": "code",
   "source": [
    "# # Split the data for each weight into training and testing sets\n",
    "# train_dfs = []\n",
    "# test_dfs = []\n",
    "# \n",
    "# for weight in df['weight'].unique():\n",
    "#     weight_df = df[df['weight'] == weight]\n",
    "#     train_weight_df, test_weight_df = train_test_split(weight_df, test_size=0.25, random_state=42)\n",
    "#     train_dfs.append(train_weight_df)\n",
    "#     test_dfs.append(test_weight_df)\n",
    "# \n",
    "# # Concatenate the training and testing dataframes\n",
    "# df_train = pd.concat(train_dfs).reset_index(drop=True)\n",
    "# df_test = pd.concat(test_dfs).reset_index(drop=True)"
   ],
   "id": "fd840a36eab8598c",
   "outputs": [],
   "execution_count": 6
  },
  {
   "metadata": {
    "ExecuteTime": {
     "end_time": "2024-12-05T13:55:47.192376Z",
     "start_time": "2024-12-05T13:55:47.189882Z"
    }
   },
   "cell_type": "code",
   "source": [
    "# def split_sequentially(df, train_size=0.75):\n",
    "#     train_dfs = []\n",
    "#     test_dfs = []\n",
    "# \n",
    "#     for weight in df['weight'].unique():\n",
    "#         weight_df = df[df['weight'] == weight]\n",
    "#         split_index = int(len(weight_df) * train_size)\n",
    "#         train_weight_df = weight_df.iloc[:split_index]\n",
    "#         test_weight_df = weight_df.iloc[split_index:]\n",
    "# \n",
    "#         train_dfs.append(train_weight_df)\n",
    "#         test_dfs.append(test_weight_df)\n",
    "# \n",
    "#     train_df = pd.concat(train_dfs).reset_index(drop=True)\n",
    "#     test_df = pd.concat(test_dfs).reset_index(drop=True)\n",
    "# \n",
    "#     return train_df, test_df\n",
    "# \n",
    "# df_train, df_test = split_sequentially(df)"
   ],
   "id": "fbd1abb056b6f580",
   "outputs": [],
   "execution_count": 7
  },
  {
   "metadata": {
    "ExecuteTime": {
     "end_time": "2024-12-05T13:55:47.200499Z",
     "start_time": "2024-12-05T13:55:47.196442Z"
    }
   },
   "cell_type": "code",
   "source": [
    "N_features = 3\n",
    "\n",
    "def get_segments(df, segment_size, step_size):\n",
    "    segments = []\n",
    "    labels = []\n",
    "    \n",
    "    for i in range(0, df.shape[0] - segment_size, step_size):\n",
    "        # axs = df['ax'].values[i: i + segment_size]\n",
    "        # ays = df['ay'].values[i: i + segment_size]\n",
    "        # azs = df['az'].values[i: i + segment_size]\n",
    "        gxs = df['gx'].values[i: i + segment_size]\n",
    "        gys = df['gy'].values[i: i + segment_size]\n",
    "        gzs = df['gz'].values[i: i + segment_size]\n",
    "        label = df['weight_class'].iloc[i: i + segment_size].mode()[0]\n",
    "        \n",
    "        segments.append([gxs, gys, gzs])\n",
    "        labels.append(label)\n",
    "    \n",
    "    reshaped_segments = np.asarray(segments, dtype= np.float32).reshape(-1, segment_size, N_features)\n",
    "    labels = np.asarray(labels).reshape(-1, 1)\n",
    "    \n",
    "    return reshaped_segments, labels"
   ],
   "id": "226278e325b541d3",
   "outputs": [],
   "execution_count": 8
  },
  {
   "metadata": {
    "ExecuteTime": {
     "end_time": "2024-12-05T13:55:47.419893Z",
     "start_time": "2024-12-05T13:55:47.214768Z"
    }
   },
   "cell_type": "code",
   "source": [
    "segment_size = 400\n",
    "step_size = 200\n",
    "\n",
    "X_train, y_train = get_segments(df_train, segment_size, step_size)\n",
    "X_test, y_test = get_segments(df_test, segment_size, step_size)\n"
   ],
   "id": "60689bfb1d563ec6",
   "outputs": [],
   "execution_count": 9
  },
  {
   "metadata": {
    "ExecuteTime": {
     "end_time": "2024-12-05T13:55:47.424682Z",
     "start_time": "2024-12-05T13:55:47.421898Z"
    }
   },
   "cell_type": "code",
   "source": [
    "print(X_train.shape, y_train.shape)\n",
    "print(X_test.shape, y_test.shape)"
   ],
   "id": "2d6fce6fdfce6687",
   "outputs": [
    {
     "name": "stdout",
     "output_type": "stream",
     "text": [
      "(2998, 400, 3) (2998, 1)\n",
      "(1798, 400, 3) (1798, 1)\n"
     ]
    }
   ],
   "execution_count": 10
  },
  {
   "metadata": {
    "ExecuteTime": {
     "end_time": "2024-12-05T13:55:47.529841Z",
     "start_time": "2024-12-05T13:55:47.434237Z"
    }
   },
   "cell_type": "code",
   "source": [
    "# Standardize the data\n",
    "scaler = StandardScaler()\n",
    "X_train = scaler.fit_transform(X_train.reshape(-1, N_features)).reshape(-1, segment_size, N_features)\n",
    "X_test = scaler.transform(X_test.reshape(-1, N_features)).reshape(-1, segment_size, N_features)\n",
    "y_train = to_categorical(y_train, num_classes)\n",
    "y_test = to_categorical(y_test, num_classes)"
   ],
   "id": "f065c9f696220fd1",
   "outputs": [],
   "execution_count": 11
  },
  {
   "metadata": {
    "ExecuteTime": {
     "end_time": "2024-12-05T13:55:47.544206Z",
     "start_time": "2024-12-05T13:55:47.542208Z"
    }
   },
   "cell_type": "code",
   "source": [
    "print(X_train.shape, y_train.shape)\n",
    "print(X_test.shape, y_test.shape)"
   ],
   "id": "23007135de250cbe",
   "outputs": [
    {
     "name": "stdout",
     "output_type": "stream",
     "text": [
      "(2998, 400, 3) (2998, 3)\n",
      "(1798, 400, 3) (1798, 3)\n"
     ]
    }
   ],
   "execution_count": 12
  },
  {
   "metadata": {
    "ExecuteTime": {
     "end_time": "2024-12-05T13:55:47.643534Z",
     "start_time": "2024-12-05T13:55:47.556051Z"
    }
   },
   "cell_type": "code",
   "source": [
    "# Model\n",
    "model = Sequential()\n",
    "model.add(Input(shape=(segment_size, N_features)))\n",
    "model.add(Conv1D(16, 3, activation='relu'))\n",
    "model.add(MaxPooling1D())\n",
    "model.add(Conv1D(32, 5, activation='relu'))\n",
    "model.add(MaxPooling1D())\n",
    "model.add(Conv1D(64, 8, activation='relu'))\n",
    "model.add(GlobalMaxPooling1D())\n",
    "model.add(Dropout(0.5))\n",
    "model.add(Dense(num_classes, activation='softmax'))\n",
    "\n",
    "model.compile(optimizer='adam', loss='categorical_crossentropy', metrics=['accuracy'])\n",
    "\n",
    "model.summary()"
   ],
   "id": "b0f5783c47de8919",
   "outputs": [
    {
     "data": {
      "text/plain": [
       "\u001B[1mModel: \"sequential\"\u001B[0m\n"
      ],
      "text/html": [
       "<pre style=\"white-space:pre;overflow-x:auto;line-height:normal;font-family:Menlo,'DejaVu Sans Mono',consolas,'Courier New',monospace\"><span style=\"font-weight: bold\">Model: \"sequential\"</span>\n",
       "</pre>\n"
      ]
     },
     "metadata": {},
     "output_type": "display_data"
    },
    {
     "data": {
      "text/plain": [
       "┏━━━━━━━━━━━━━━━━━━━━━━━━━━━━━━━━━┳━━━━━━━━━━━━━━━━━━━━━━━━┳━━━━━━━━━━━━━━━┓\n",
       "┃\u001B[1m \u001B[0m\u001B[1mLayer (type)                   \u001B[0m\u001B[1m \u001B[0m┃\u001B[1m \u001B[0m\u001B[1mOutput Shape          \u001B[0m\u001B[1m \u001B[0m┃\u001B[1m \u001B[0m\u001B[1m      Param #\u001B[0m\u001B[1m \u001B[0m┃\n",
       "┡━━━━━━━━━━━━━━━━━━━━━━━━━━━━━━━━━╇━━━━━━━━━━━━━━━━━━━━━━━━╇━━━━━━━━━━━━━━━┩\n",
       "│ conv1d (\u001B[38;5;33mConv1D\u001B[0m)                 │ (\u001B[38;5;45mNone\u001B[0m, \u001B[38;5;34m398\u001B[0m, \u001B[38;5;34m16\u001B[0m)        │           \u001B[38;5;34m160\u001B[0m │\n",
       "├─────────────────────────────────┼────────────────────────┼───────────────┤\n",
       "│ max_pooling1d (\u001B[38;5;33mMaxPooling1D\u001B[0m)    │ (\u001B[38;5;45mNone\u001B[0m, \u001B[38;5;34m199\u001B[0m, \u001B[38;5;34m16\u001B[0m)        │             \u001B[38;5;34m0\u001B[0m │\n",
       "├─────────────────────────────────┼────────────────────────┼───────────────┤\n",
       "│ conv1d_1 (\u001B[38;5;33mConv1D\u001B[0m)               │ (\u001B[38;5;45mNone\u001B[0m, \u001B[38;5;34m195\u001B[0m, \u001B[38;5;34m32\u001B[0m)        │         \u001B[38;5;34m2,592\u001B[0m │\n",
       "├─────────────────────────────────┼────────────────────────┼───────────────┤\n",
       "│ max_pooling1d_1 (\u001B[38;5;33mMaxPooling1D\u001B[0m)  │ (\u001B[38;5;45mNone\u001B[0m, \u001B[38;5;34m97\u001B[0m, \u001B[38;5;34m32\u001B[0m)         │             \u001B[38;5;34m0\u001B[0m │\n",
       "├─────────────────────────────────┼────────────────────────┼───────────────┤\n",
       "│ conv1d_2 (\u001B[38;5;33mConv1D\u001B[0m)               │ (\u001B[38;5;45mNone\u001B[0m, \u001B[38;5;34m90\u001B[0m, \u001B[38;5;34m64\u001B[0m)         │        \u001B[38;5;34m16,448\u001B[0m │\n",
       "├─────────────────────────────────┼────────────────────────┼───────────────┤\n",
       "│ global_max_pooling1d            │ (\u001B[38;5;45mNone\u001B[0m, \u001B[38;5;34m64\u001B[0m)             │             \u001B[38;5;34m0\u001B[0m │\n",
       "│ (\u001B[38;5;33mGlobalMaxPooling1D\u001B[0m)            │                        │               │\n",
       "├─────────────────────────────────┼────────────────────────┼───────────────┤\n",
       "│ dropout (\u001B[38;5;33mDropout\u001B[0m)               │ (\u001B[38;5;45mNone\u001B[0m, \u001B[38;5;34m64\u001B[0m)             │             \u001B[38;5;34m0\u001B[0m │\n",
       "├─────────────────────────────────┼────────────────────────┼───────────────┤\n",
       "│ dense (\u001B[38;5;33mDense\u001B[0m)                   │ (\u001B[38;5;45mNone\u001B[0m, \u001B[38;5;34m3\u001B[0m)              │           \u001B[38;5;34m195\u001B[0m │\n",
       "└─────────────────────────────────┴────────────────────────┴───────────────┘\n"
      ],
      "text/html": [
       "<pre style=\"white-space:pre;overflow-x:auto;line-height:normal;font-family:Menlo,'DejaVu Sans Mono',consolas,'Courier New',monospace\">┏━━━━━━━━━━━━━━━━━━━━━━━━━━━━━━━━━┳━━━━━━━━━━━━━━━━━━━━━━━━┳━━━━━━━━━━━━━━━┓\n",
       "┃<span style=\"font-weight: bold\"> Layer (type)                    </span>┃<span style=\"font-weight: bold\"> Output Shape           </span>┃<span style=\"font-weight: bold\">       Param # </span>┃\n",
       "┡━━━━━━━━━━━━━━━━━━━━━━━━━━━━━━━━━╇━━━━━━━━━━━━━━━━━━━━━━━━╇━━━━━━━━━━━━━━━┩\n",
       "│ conv1d (<span style=\"color: #0087ff; text-decoration-color: #0087ff\">Conv1D</span>)                 │ (<span style=\"color: #00d7ff; text-decoration-color: #00d7ff\">None</span>, <span style=\"color: #00af00; text-decoration-color: #00af00\">398</span>, <span style=\"color: #00af00; text-decoration-color: #00af00\">16</span>)        │           <span style=\"color: #00af00; text-decoration-color: #00af00\">160</span> │\n",
       "├─────────────────────────────────┼────────────────────────┼───────────────┤\n",
       "│ max_pooling1d (<span style=\"color: #0087ff; text-decoration-color: #0087ff\">MaxPooling1D</span>)    │ (<span style=\"color: #00d7ff; text-decoration-color: #00d7ff\">None</span>, <span style=\"color: #00af00; text-decoration-color: #00af00\">199</span>, <span style=\"color: #00af00; text-decoration-color: #00af00\">16</span>)        │             <span style=\"color: #00af00; text-decoration-color: #00af00\">0</span> │\n",
       "├─────────────────────────────────┼────────────────────────┼───────────────┤\n",
       "│ conv1d_1 (<span style=\"color: #0087ff; text-decoration-color: #0087ff\">Conv1D</span>)               │ (<span style=\"color: #00d7ff; text-decoration-color: #00d7ff\">None</span>, <span style=\"color: #00af00; text-decoration-color: #00af00\">195</span>, <span style=\"color: #00af00; text-decoration-color: #00af00\">32</span>)        │         <span style=\"color: #00af00; text-decoration-color: #00af00\">2,592</span> │\n",
       "├─────────────────────────────────┼────────────────────────┼───────────────┤\n",
       "│ max_pooling1d_1 (<span style=\"color: #0087ff; text-decoration-color: #0087ff\">MaxPooling1D</span>)  │ (<span style=\"color: #00d7ff; text-decoration-color: #00d7ff\">None</span>, <span style=\"color: #00af00; text-decoration-color: #00af00\">97</span>, <span style=\"color: #00af00; text-decoration-color: #00af00\">32</span>)         │             <span style=\"color: #00af00; text-decoration-color: #00af00\">0</span> │\n",
       "├─────────────────────────────────┼────────────────────────┼───────────────┤\n",
       "│ conv1d_2 (<span style=\"color: #0087ff; text-decoration-color: #0087ff\">Conv1D</span>)               │ (<span style=\"color: #00d7ff; text-decoration-color: #00d7ff\">None</span>, <span style=\"color: #00af00; text-decoration-color: #00af00\">90</span>, <span style=\"color: #00af00; text-decoration-color: #00af00\">64</span>)         │        <span style=\"color: #00af00; text-decoration-color: #00af00\">16,448</span> │\n",
       "├─────────────────────────────────┼────────────────────────┼───────────────┤\n",
       "│ global_max_pooling1d            │ (<span style=\"color: #00d7ff; text-decoration-color: #00d7ff\">None</span>, <span style=\"color: #00af00; text-decoration-color: #00af00\">64</span>)             │             <span style=\"color: #00af00; text-decoration-color: #00af00\">0</span> │\n",
       "│ (<span style=\"color: #0087ff; text-decoration-color: #0087ff\">GlobalMaxPooling1D</span>)            │                        │               │\n",
       "├─────────────────────────────────┼────────────────────────┼───────────────┤\n",
       "│ dropout (<span style=\"color: #0087ff; text-decoration-color: #0087ff\">Dropout</span>)               │ (<span style=\"color: #00d7ff; text-decoration-color: #00d7ff\">None</span>, <span style=\"color: #00af00; text-decoration-color: #00af00\">64</span>)             │             <span style=\"color: #00af00; text-decoration-color: #00af00\">0</span> │\n",
       "├─────────────────────────────────┼────────────────────────┼───────────────┤\n",
       "│ dense (<span style=\"color: #0087ff; text-decoration-color: #0087ff\">Dense</span>)                   │ (<span style=\"color: #00d7ff; text-decoration-color: #00d7ff\">None</span>, <span style=\"color: #00af00; text-decoration-color: #00af00\">3</span>)              │           <span style=\"color: #00af00; text-decoration-color: #00af00\">195</span> │\n",
       "└─────────────────────────────────┴────────────────────────┴───────────────┘\n",
       "</pre>\n"
      ]
     },
     "metadata": {},
     "output_type": "display_data"
    },
    {
     "data": {
      "text/plain": [
       "\u001B[1m Total params: \u001B[0m\u001B[38;5;34m19,395\u001B[0m (75.76 KB)\n"
      ],
      "text/html": [
       "<pre style=\"white-space:pre;overflow-x:auto;line-height:normal;font-family:Menlo,'DejaVu Sans Mono',consolas,'Courier New',monospace\"><span style=\"font-weight: bold\"> Total params: </span><span style=\"color: #00af00; text-decoration-color: #00af00\">19,395</span> (75.76 KB)\n",
       "</pre>\n"
      ]
     },
     "metadata": {},
     "output_type": "display_data"
    },
    {
     "data": {
      "text/plain": [
       "\u001B[1m Trainable params: \u001B[0m\u001B[38;5;34m19,395\u001B[0m (75.76 KB)\n"
      ],
      "text/html": [
       "<pre style=\"white-space:pre;overflow-x:auto;line-height:normal;font-family:Menlo,'DejaVu Sans Mono',consolas,'Courier New',monospace\"><span style=\"font-weight: bold\"> Trainable params: </span><span style=\"color: #00af00; text-decoration-color: #00af00\">19,395</span> (75.76 KB)\n",
       "</pre>\n"
      ]
     },
     "metadata": {},
     "output_type": "display_data"
    },
    {
     "data": {
      "text/plain": [
       "\u001B[1m Non-trainable params: \u001B[0m\u001B[38;5;34m0\u001B[0m (0.00 B)\n"
      ],
      "text/html": [
       "<pre style=\"white-space:pre;overflow-x:auto;line-height:normal;font-family:Menlo,'DejaVu Sans Mono',consolas,'Courier New',monospace\"><span style=\"font-weight: bold\"> Non-trainable params: </span><span style=\"color: #00af00; text-decoration-color: #00af00\">0</span> (0.00 B)\n",
       "</pre>\n"
      ]
     },
     "metadata": {},
     "output_type": "display_data"
    }
   ],
   "execution_count": 13
  },
  {
   "metadata": {
    "ExecuteTime": {
     "end_time": "2024-12-05T13:56:12.593078Z",
     "start_time": "2024-12-05T13:55:47.666246Z"
    }
   },
   "cell_type": "code",
   "source": [
    "# Train the model\n",
    "history = model.fit(X_train, y_train, epochs=100, batch_size=32, validation_data=(X_test, y_test))"
   ],
   "id": "423bc85ab0ebecb5",
   "outputs": [
    {
     "name": "stdout",
     "output_type": "stream",
     "text": [
      "Epoch 1/100\n",
      "\u001B[1m94/94\u001B[0m \u001B[32m━━━━━━━━━━━━━━━━━━━━\u001B[0m\u001B[37m\u001B[0m \u001B[1m1s\u001B[0m 4ms/step - accuracy: 0.3773 - loss: 1.1677 - val_accuracy: 0.3443 - val_loss: 1.0969\n",
      "Epoch 2/100\n",
      "\u001B[1m94/94\u001B[0m \u001B[32m━━━━━━━━━━━━━━━━━━━━\u001B[0m\u001B[37m\u001B[0m \u001B[1m0s\u001B[0m 2ms/step - accuracy: 0.4112 - loss: 1.0838 - val_accuracy: 0.3854 - val_loss: 1.0852\n",
      "Epoch 3/100\n",
      "\u001B[1m94/94\u001B[0m \u001B[32m━━━━━━━━━━━━━━━━━━━━\u001B[0m\u001B[37m\u001B[0m \u001B[1m0s\u001B[0m 2ms/step - accuracy: 0.4152 - loss: 1.0812 - val_accuracy: 0.3621 - val_loss: 1.0913\n",
      "Epoch 4/100\n",
      "\u001B[1m94/94\u001B[0m \u001B[32m━━━━━━━━━━━━━━━━━━━━\u001B[0m\u001B[37m\u001B[0m \u001B[1m0s\u001B[0m 2ms/step - accuracy: 0.4228 - loss: 1.0677 - val_accuracy: 0.4110 - val_loss: 1.0759\n",
      "Epoch 5/100\n",
      "\u001B[1m94/94\u001B[0m \u001B[32m━━━━━━━━━━━━━━━━━━━━\u001B[0m\u001B[37m\u001B[0m \u001B[1m0s\u001B[0m 3ms/step - accuracy: 0.4356 - loss: 1.0631 - val_accuracy: 0.3532 - val_loss: 1.0859\n",
      "Epoch 6/100\n",
      "\u001B[1m94/94\u001B[0m \u001B[32m━━━━━━━━━━━━━━━━━━━━\u001B[0m\u001B[37m\u001B[0m \u001B[1m0s\u001B[0m 2ms/step - accuracy: 0.4454 - loss: 1.0565 - val_accuracy: 0.3604 - val_loss: 1.0851\n",
      "Epoch 7/100\n",
      "\u001B[1m94/94\u001B[0m \u001B[32m━━━━━━━━━━━━━━━━━━━━\u001B[0m\u001B[37m\u001B[0m \u001B[1m0s\u001B[0m 2ms/step - accuracy: 0.4378 - loss: 1.0552 - val_accuracy: 0.4483 - val_loss: 1.0555\n",
      "Epoch 8/100\n",
      "\u001B[1m94/94\u001B[0m \u001B[32m━━━━━━━━━━━━━━━━━━━━\u001B[0m\u001B[37m\u001B[0m \u001B[1m0s\u001B[0m 2ms/step - accuracy: 0.4455 - loss: 1.0478 - val_accuracy: 0.4205 - val_loss: 1.0674\n",
      "Epoch 9/100\n",
      "\u001B[1m94/94\u001B[0m \u001B[32m━━━━━━━━━━━━━━━━━━━━\u001B[0m\u001B[37m\u001B[0m \u001B[1m0s\u001B[0m 2ms/step - accuracy: 0.4607 - loss: 1.0391 - val_accuracy: 0.4032 - val_loss: 1.0703\n",
      "Epoch 10/100\n",
      "\u001B[1m94/94\u001B[0m \u001B[32m━━━━━━━━━━━━━━━━━━━━\u001B[0m\u001B[37m\u001B[0m \u001B[1m0s\u001B[0m 2ms/step - accuracy: 0.4597 - loss: 1.0377 - val_accuracy: 0.4227 - val_loss: 1.0562\n",
      "Epoch 11/100\n",
      "\u001B[1m94/94\u001B[0m \u001B[32m━━━━━━━━━━━━━━━━━━━━\u001B[0m\u001B[37m\u001B[0m \u001B[1m0s\u001B[0m 3ms/step - accuracy: 0.4479 - loss: 1.0341 - val_accuracy: 0.4572 - val_loss: 1.0384\n",
      "Epoch 12/100\n",
      "\u001B[1m94/94\u001B[0m \u001B[32m━━━━━━━━━━━━━━━━━━━━\u001B[0m\u001B[37m\u001B[0m \u001B[1m0s\u001B[0m 3ms/step - accuracy: 0.4881 - loss: 1.0162 - val_accuracy: 0.4260 - val_loss: 1.0680\n",
      "Epoch 13/100\n",
      "\u001B[1m94/94\u001B[0m \u001B[32m━━━━━━━━━━━━━━━━━━━━\u001B[0m\u001B[37m\u001B[0m \u001B[1m0s\u001B[0m 2ms/step - accuracy: 0.4860 - loss: 1.0130 - val_accuracy: 0.3838 - val_loss: 1.0788\n",
      "Epoch 14/100\n",
      "\u001B[1m94/94\u001B[0m \u001B[32m━━━━━━━━━━━━━━━━━━━━\u001B[0m\u001B[37m\u001B[0m \u001B[1m0s\u001B[0m 2ms/step - accuracy: 0.4801 - loss: 1.0093 - val_accuracy: 0.4538 - val_loss: 1.0440\n",
      "Epoch 15/100\n",
      "\u001B[1m94/94\u001B[0m \u001B[32m━━━━━━━━━━━━━━━━━━━━\u001B[0m\u001B[37m\u001B[0m \u001B[1m0s\u001B[0m 2ms/step - accuracy: 0.5186 - loss: 0.9897 - val_accuracy: 0.4405 - val_loss: 1.0429\n",
      "Epoch 16/100\n",
      "\u001B[1m94/94\u001B[0m \u001B[32m━━━━━━━━━━━━━━━━━━━━\u001B[0m\u001B[37m\u001B[0m \u001B[1m0s\u001B[0m 3ms/step - accuracy: 0.5281 - loss: 0.9739 - val_accuracy: 0.4572 - val_loss: 1.0391\n",
      "Epoch 17/100\n",
      "\u001B[1m94/94\u001B[0m \u001B[32m━━━━━━━━━━━━━━━━━━━━\u001B[0m\u001B[37m\u001B[0m \u001B[1m0s\u001B[0m 2ms/step - accuracy: 0.5242 - loss: 0.9623 - val_accuracy: 0.4538 - val_loss: 1.0402\n",
      "Epoch 18/100\n",
      "\u001B[1m94/94\u001B[0m \u001B[32m━━━━━━━━━━━━━━━━━━━━\u001B[0m\u001B[37m\u001B[0m \u001B[1m0s\u001B[0m 2ms/step - accuracy: 0.5317 - loss: 0.9571 - val_accuracy: 0.4661 - val_loss: 1.0384\n",
      "Epoch 19/100\n",
      "\u001B[1m94/94\u001B[0m \u001B[32m━━━━━━━━━━━━━━━━━━━━\u001B[0m\u001B[37m\u001B[0m \u001B[1m0s\u001B[0m 2ms/step - accuracy: 0.5410 - loss: 0.9319 - val_accuracy: 0.4310 - val_loss: 1.0718\n",
      "Epoch 20/100\n",
      "\u001B[1m94/94\u001B[0m \u001B[32m━━━━━━━━━━━━━━━━━━━━\u001B[0m\u001B[37m\u001B[0m \u001B[1m0s\u001B[0m 2ms/step - accuracy: 0.5615 - loss: 0.9183 - val_accuracy: 0.4755 - val_loss: 1.0523\n",
      "Epoch 21/100\n",
      "\u001B[1m94/94\u001B[0m \u001B[32m━━━━━━━━━━━━━━━━━━━━\u001B[0m\u001B[37m\u001B[0m \u001B[1m0s\u001B[0m 2ms/step - accuracy: 0.5671 - loss: 0.9121 - val_accuracy: 0.4249 - val_loss: 1.0652\n",
      "Epoch 22/100\n",
      "\u001B[1m94/94\u001B[0m \u001B[32m━━━━━━━━━━━━━━━━━━━━\u001B[0m\u001B[37m\u001B[0m \u001B[1m0s\u001B[0m 2ms/step - accuracy: 0.5693 - loss: 0.9111 - val_accuracy: 0.4666 - val_loss: 1.0490\n",
      "Epoch 23/100\n",
      "\u001B[1m94/94\u001B[0m \u001B[32m━━━━━━━━━━━━━━━━━━━━\u001B[0m\u001B[37m\u001B[0m \u001B[1m0s\u001B[0m 3ms/step - accuracy: 0.5843 - loss: 0.8824 - val_accuracy: 0.4344 - val_loss: 1.0965\n",
      "Epoch 24/100\n",
      "\u001B[1m94/94\u001B[0m \u001B[32m━━━━━━━━━━━━━━━━━━━━\u001B[0m\u001B[37m\u001B[0m \u001B[1m0s\u001B[0m 2ms/step - accuracy: 0.5960 - loss: 0.8695 - val_accuracy: 0.4650 - val_loss: 1.0504\n",
      "Epoch 25/100\n",
      "\u001B[1m94/94\u001B[0m \u001B[32m━━━━━━━━━━━━━━━━━━━━\u001B[0m\u001B[37m\u001B[0m \u001B[1m0s\u001B[0m 2ms/step - accuracy: 0.6255 - loss: 0.8326 - val_accuracy: 0.4572 - val_loss: 1.0553\n",
      "Epoch 26/100\n",
      "\u001B[1m94/94\u001B[0m \u001B[32m━━━━━━━━━━━━━━━━━━━━\u001B[0m\u001B[37m\u001B[0m \u001B[1m0s\u001B[0m 3ms/step - accuracy: 0.6213 - loss: 0.8354 - val_accuracy: 0.4761 - val_loss: 1.0501\n",
      "Epoch 27/100\n",
      "\u001B[1m94/94\u001B[0m \u001B[32m━━━━━━━━━━━━━━━━━━━━\u001B[0m\u001B[37m\u001B[0m \u001B[1m0s\u001B[0m 2ms/step - accuracy: 0.6399 - loss: 0.7966 - val_accuracy: 0.4538 - val_loss: 1.0729\n",
      "Epoch 28/100\n",
      "\u001B[1m94/94\u001B[0m \u001B[32m━━━━━━━━━━━━━━━━━━━━\u001B[0m\u001B[37m\u001B[0m \u001B[1m0s\u001B[0m 2ms/step - accuracy: 0.6409 - loss: 0.7915 - val_accuracy: 0.4655 - val_loss: 1.0664\n",
      "Epoch 29/100\n",
      "\u001B[1m94/94\u001B[0m \u001B[32m━━━━━━━━━━━━━━━━━━━━\u001B[0m\u001B[37m\u001B[0m \u001B[1m0s\u001B[0m 2ms/step - accuracy: 0.6426 - loss: 0.7880 - val_accuracy: 0.4455 - val_loss: 1.0791\n",
      "Epoch 30/100\n",
      "\u001B[1m94/94\u001B[0m \u001B[32m━━━━━━━━━━━━━━━━━━━━\u001B[0m\u001B[37m\u001B[0m \u001B[1m0s\u001B[0m 2ms/step - accuracy: 0.6641 - loss: 0.7538 - val_accuracy: 0.4677 - val_loss: 1.0708\n",
      "Epoch 31/100\n",
      "\u001B[1m94/94\u001B[0m \u001B[32m━━━━━━━━━━━━━━━━━━━━\u001B[0m\u001B[37m\u001B[0m \u001B[1m0s\u001B[0m 2ms/step - accuracy: 0.6622 - loss: 0.7547 - val_accuracy: 0.4310 - val_loss: 1.1376\n",
      "Epoch 32/100\n",
      "\u001B[1m94/94\u001B[0m \u001B[32m━━━━━━━━━━━━━━━━━━━━\u001B[0m\u001B[37m\u001B[0m \u001B[1m0s\u001B[0m 2ms/step - accuracy: 0.6739 - loss: 0.7410 - val_accuracy: 0.4705 - val_loss: 1.0737\n",
      "Epoch 33/100\n",
      "\u001B[1m94/94\u001B[0m \u001B[32m━━━━━━━━━━━━━━━━━━━━\u001B[0m\u001B[37m\u001B[0m \u001B[1m0s\u001B[0m 2ms/step - accuracy: 0.6707 - loss: 0.7295 - val_accuracy: 0.4689 - val_loss: 1.0779\n",
      "Epoch 34/100\n",
      "\u001B[1m94/94\u001B[0m \u001B[32m━━━━━━━━━━━━━━━━━━━━\u001B[0m\u001B[37m\u001B[0m \u001B[1m0s\u001B[0m 2ms/step - accuracy: 0.6840 - loss: 0.7267 - val_accuracy: 0.4533 - val_loss: 1.1164\n",
      "Epoch 35/100\n",
      "\u001B[1m94/94\u001B[0m \u001B[32m━━━━━━━━━━━━━━━━━━━━\u001B[0m\u001B[37m\u001B[0m \u001B[1m0s\u001B[0m 2ms/step - accuracy: 0.6805 - loss: 0.7058 - val_accuracy: 0.4583 - val_loss: 1.0997\n",
      "Epoch 36/100\n",
      "\u001B[1m94/94\u001B[0m \u001B[32m━━━━━━━━━━━━━━━━━━━━\u001B[0m\u001B[37m\u001B[0m \u001B[1m0s\u001B[0m 2ms/step - accuracy: 0.6837 - loss: 0.7027 - val_accuracy: 0.4588 - val_loss: 1.1245\n",
      "Epoch 37/100\n",
      "\u001B[1m94/94\u001B[0m \u001B[32m━━━━━━━━━━━━━━━━━━━━\u001B[0m\u001B[37m\u001B[0m \u001B[1m0s\u001B[0m 2ms/step - accuracy: 0.7150 - loss: 0.6668 - val_accuracy: 0.4199 - val_loss: 1.2173\n",
      "Epoch 38/100\n",
      "\u001B[1m94/94\u001B[0m \u001B[32m━━━━━━━━━━━━━━━━━━━━\u001B[0m\u001B[37m\u001B[0m \u001B[1m0s\u001B[0m 2ms/step - accuracy: 0.6890 - loss: 0.6734 - val_accuracy: 0.4577 - val_loss: 1.1366\n",
      "Epoch 39/100\n",
      "\u001B[1m94/94\u001B[0m \u001B[32m━━━━━━━━━━━━━━━━━━━━\u001B[0m\u001B[37m\u001B[0m \u001B[1m0s\u001B[0m 2ms/step - accuracy: 0.7190 - loss: 0.6494 - val_accuracy: 0.4505 - val_loss: 1.1323\n",
      "Epoch 40/100\n",
      "\u001B[1m94/94\u001B[0m \u001B[32m━━━━━━━━━━━━━━━━━━━━\u001B[0m\u001B[37m\u001B[0m \u001B[1m0s\u001B[0m 2ms/step - accuracy: 0.7304 - loss: 0.6160 - val_accuracy: 0.4522 - val_loss: 1.1710\n",
      "Epoch 41/100\n",
      "\u001B[1m94/94\u001B[0m \u001B[32m━━━━━━━━━━━━━━━━━━━━\u001B[0m\u001B[37m\u001B[0m \u001B[1m0s\u001B[0m 2ms/step - accuracy: 0.7348 - loss: 0.6325 - val_accuracy: 0.4494 - val_loss: 1.1807\n",
      "Epoch 42/100\n",
      "\u001B[1m94/94\u001B[0m \u001B[32m━━━━━━━━━━━━━━━━━━━━\u001B[0m\u001B[37m\u001B[0m \u001B[1m0s\u001B[0m 2ms/step - accuracy: 0.7395 - loss: 0.6118 - val_accuracy: 0.4572 - val_loss: 1.1443\n",
      "Epoch 43/100\n",
      "\u001B[1m94/94\u001B[0m \u001B[32m━━━━━━━━━━━━━━━━━━━━\u001B[0m\u001B[37m\u001B[0m \u001B[1m0s\u001B[0m 2ms/step - accuracy: 0.7248 - loss: 0.6367 - val_accuracy: 0.4433 - val_loss: 1.1982\n",
      "Epoch 44/100\n",
      "\u001B[1m94/94\u001B[0m \u001B[32m━━━━━━━━━━━━━━━━━━━━\u001B[0m\u001B[37m\u001B[0m \u001B[1m0s\u001B[0m 2ms/step - accuracy: 0.7582 - loss: 0.5954 - val_accuracy: 0.4461 - val_loss: 1.1734\n",
      "Epoch 45/100\n",
      "\u001B[1m94/94\u001B[0m \u001B[32m━━━━━━━━━━━━━━━━━━━━\u001B[0m\u001B[37m\u001B[0m \u001B[1m0s\u001B[0m 2ms/step - accuracy: 0.7388 - loss: 0.6090 - val_accuracy: 0.4427 - val_loss: 1.2933\n",
      "Epoch 46/100\n",
      "\u001B[1m94/94\u001B[0m \u001B[32m━━━━━━━━━━━━━━━━━━━━\u001B[0m\u001B[37m\u001B[0m \u001B[1m0s\u001B[0m 2ms/step - accuracy: 0.7379 - loss: 0.5826 - val_accuracy: 0.4516 - val_loss: 1.2486\n",
      "Epoch 47/100\n",
      "\u001B[1m94/94\u001B[0m \u001B[32m━━━━━━━━━━━━━━━━━━━━\u001B[0m\u001B[37m\u001B[0m \u001B[1m0s\u001B[0m 2ms/step - accuracy: 0.7695 - loss: 0.5603 - val_accuracy: 0.4600 - val_loss: 1.2225\n",
      "Epoch 48/100\n",
      "\u001B[1m94/94\u001B[0m \u001B[32m━━━━━━━━━━━━━━━━━━━━\u001B[0m\u001B[37m\u001B[0m \u001B[1m0s\u001B[0m 2ms/step - accuracy: 0.7598 - loss: 0.5697 - val_accuracy: 0.4499 - val_loss: 1.2048\n",
      "Epoch 49/100\n",
      "\u001B[1m94/94\u001B[0m \u001B[32m━━━━━━━━━━━━━━━━━━━━\u001B[0m\u001B[37m\u001B[0m \u001B[1m0s\u001B[0m 2ms/step - accuracy: 0.7605 - loss: 0.5580 - val_accuracy: 0.4461 - val_loss: 1.2257\n",
      "Epoch 50/100\n",
      "\u001B[1m94/94\u001B[0m \u001B[32m━━━━━━━━━━━━━━━━━━━━\u001B[0m\u001B[37m\u001B[0m \u001B[1m0s\u001B[0m 2ms/step - accuracy: 0.7736 - loss: 0.5329 - val_accuracy: 0.4410 - val_loss: 1.2304\n",
      "Epoch 51/100\n",
      "\u001B[1m94/94\u001B[0m \u001B[32m━━━━━━━━━━━━━━━━━━━━\u001B[0m\u001B[37m\u001B[0m \u001B[1m0s\u001B[0m 2ms/step - accuracy: 0.7717 - loss: 0.5485 - val_accuracy: 0.4533 - val_loss: 1.3146\n",
      "Epoch 52/100\n",
      "\u001B[1m94/94\u001B[0m \u001B[32m━━━━━━━━━━━━━━━━━━━━\u001B[0m\u001B[37m\u001B[0m \u001B[1m0s\u001B[0m 2ms/step - accuracy: 0.7788 - loss: 0.5190 - val_accuracy: 0.4666 - val_loss: 1.2694\n",
      "Epoch 53/100\n",
      "\u001B[1m94/94\u001B[0m \u001B[32m━━━━━━━━━━━━━━━━━━━━\u001B[0m\u001B[37m\u001B[0m \u001B[1m0s\u001B[0m 2ms/step - accuracy: 0.7662 - loss: 0.5247 - val_accuracy: 0.4616 - val_loss: 1.2636\n",
      "Epoch 54/100\n",
      "\u001B[1m94/94\u001B[0m \u001B[32m━━━━━━━━━━━━━━━━━━━━\u001B[0m\u001B[37m\u001B[0m \u001B[1m0s\u001B[0m 2ms/step - accuracy: 0.7897 - loss: 0.5020 - val_accuracy: 0.4594 - val_loss: 1.2927\n",
      "Epoch 55/100\n",
      "\u001B[1m94/94\u001B[0m \u001B[32m━━━━━━━━━━━━━━━━━━━━\u001B[0m\u001B[37m\u001B[0m \u001B[1m0s\u001B[0m 2ms/step - accuracy: 0.7744 - loss: 0.5197 - val_accuracy: 0.4627 - val_loss: 1.2951\n",
      "Epoch 56/100\n",
      "\u001B[1m94/94\u001B[0m \u001B[32m━━━━━━━━━━━━━━━━━━━━\u001B[0m\u001B[37m\u001B[0m \u001B[1m0s\u001B[0m 2ms/step - accuracy: 0.7776 - loss: 0.5088 - val_accuracy: 0.4549 - val_loss: 1.2211\n",
      "Epoch 57/100\n",
      "\u001B[1m94/94\u001B[0m \u001B[32m━━━━━━━━━━━━━━━━━━━━\u001B[0m\u001B[37m\u001B[0m \u001B[1m0s\u001B[0m 2ms/step - accuracy: 0.7961 - loss: 0.4884 - val_accuracy: 0.4655 - val_loss: 1.2692\n",
      "Epoch 58/100\n",
      "\u001B[1m94/94\u001B[0m \u001B[32m━━━━━━━━━━━━━━━━━━━━\u001B[0m\u001B[37m\u001B[0m \u001B[1m0s\u001B[0m 2ms/step - accuracy: 0.8061 - loss: 0.4717 - val_accuracy: 0.4694 - val_loss: 1.2841\n",
      "Epoch 59/100\n",
      "\u001B[1m94/94\u001B[0m \u001B[32m━━━━━━━━━━━━━━━━━━━━\u001B[0m\u001B[37m\u001B[0m \u001B[1m0s\u001B[0m 2ms/step - accuracy: 0.7969 - loss: 0.4913 - val_accuracy: 0.4661 - val_loss: 1.3240\n",
      "Epoch 60/100\n",
      "\u001B[1m94/94\u001B[0m \u001B[32m━━━━━━━━━━━━━━━━━━━━\u001B[0m\u001B[37m\u001B[0m \u001B[1m0s\u001B[0m 2ms/step - accuracy: 0.8237 - loss: 0.4634 - val_accuracy: 0.4488 - val_loss: 1.4406\n",
      "Epoch 61/100\n",
      "\u001B[1m94/94\u001B[0m \u001B[32m━━━━━━━━━━━━━━━━━━━━\u001B[0m\u001B[37m\u001B[0m \u001B[1m0s\u001B[0m 2ms/step - accuracy: 0.8021 - loss: 0.4723 - val_accuracy: 0.4483 - val_loss: 1.4374\n",
      "Epoch 62/100\n",
      "\u001B[1m94/94\u001B[0m \u001B[32m━━━━━━━━━━━━━━━━━━━━\u001B[0m\u001B[37m\u001B[0m \u001B[1m0s\u001B[0m 2ms/step - accuracy: 0.8020 - loss: 0.4799 - val_accuracy: 0.4611 - val_loss: 1.4201\n",
      "Epoch 63/100\n",
      "\u001B[1m94/94\u001B[0m \u001B[32m━━━━━━━━━━━━━━━━━━━━\u001B[0m\u001B[37m\u001B[0m \u001B[1m0s\u001B[0m 2ms/step - accuracy: 0.8117 - loss: 0.4745 - val_accuracy: 0.4488 - val_loss: 1.3921\n",
      "Epoch 64/100\n",
      "\u001B[1m94/94\u001B[0m \u001B[32m━━━━━━━━━━━━━━━━━━━━\u001B[0m\u001B[37m\u001B[0m \u001B[1m0s\u001B[0m 2ms/step - accuracy: 0.7961 - loss: 0.4736 - val_accuracy: 0.4433 - val_loss: 1.5467\n",
      "Epoch 65/100\n",
      "\u001B[1m94/94\u001B[0m \u001B[32m━━━━━━━━━━━━━━━━━━━━\u001B[0m\u001B[37m\u001B[0m \u001B[1m0s\u001B[0m 2ms/step - accuracy: 0.8172 - loss: 0.4369 - val_accuracy: 0.4544 - val_loss: 1.4724\n",
      "Epoch 66/100\n",
      "\u001B[1m94/94\u001B[0m \u001B[32m━━━━━━━━━━━━━━━━━━━━\u001B[0m\u001B[37m\u001B[0m \u001B[1m0s\u001B[0m 2ms/step - accuracy: 0.8110 - loss: 0.4458 - val_accuracy: 0.4455 - val_loss: 1.3642\n",
      "Epoch 67/100\n",
      "\u001B[1m94/94\u001B[0m \u001B[32m━━━━━━━━━━━━━━━━━━━━\u001B[0m\u001B[37m\u001B[0m \u001B[1m0s\u001B[0m 2ms/step - accuracy: 0.8143 - loss: 0.4236 - val_accuracy: 0.4438 - val_loss: 1.4557\n",
      "Epoch 68/100\n",
      "\u001B[1m94/94\u001B[0m \u001B[32m━━━━━━━━━━━━━━━━━━━━\u001B[0m\u001B[37m\u001B[0m \u001B[1m0s\u001B[0m 2ms/step - accuracy: 0.8122 - loss: 0.4432 - val_accuracy: 0.4650 - val_loss: 1.3421\n",
      "Epoch 69/100\n",
      "\u001B[1m94/94\u001B[0m \u001B[32m━━━━━━━━━━━━━━━━━━━━\u001B[0m\u001B[37m\u001B[0m \u001B[1m0s\u001B[0m 2ms/step - accuracy: 0.8169 - loss: 0.4412 - val_accuracy: 0.4544 - val_loss: 1.5811\n",
      "Epoch 70/100\n",
      "\u001B[1m94/94\u001B[0m \u001B[32m━━━━━━━━━━━━━━━━━━━━\u001B[0m\u001B[37m\u001B[0m \u001B[1m0s\u001B[0m 2ms/step - accuracy: 0.8293 - loss: 0.4431 - val_accuracy: 0.4455 - val_loss: 1.4863\n",
      "Epoch 71/100\n",
      "\u001B[1m94/94\u001B[0m \u001B[32m━━━━━━━━━━━━━━━━━━━━\u001B[0m\u001B[37m\u001B[0m \u001B[1m0s\u001B[0m 2ms/step - accuracy: 0.8374 - loss: 0.4025 - val_accuracy: 0.4477 - val_loss: 1.4198\n",
      "Epoch 72/100\n",
      "\u001B[1m94/94\u001B[0m \u001B[32m━━━━━━━━━━━━━━━━━━━━\u001B[0m\u001B[37m\u001B[0m \u001B[1m0s\u001B[0m 2ms/step - accuracy: 0.8274 - loss: 0.4007 - val_accuracy: 0.4544 - val_loss: 1.5729\n",
      "Epoch 73/100\n",
      "\u001B[1m94/94\u001B[0m \u001B[32m━━━━━━━━━━━━━━━━━━━━\u001B[0m\u001B[37m\u001B[0m \u001B[1m0s\u001B[0m 2ms/step - accuracy: 0.8356 - loss: 0.3972 - val_accuracy: 0.4422 - val_loss: 1.5876\n",
      "Epoch 74/100\n",
      "\u001B[1m94/94\u001B[0m \u001B[32m━━━━━━━━━━━━━━━━━━━━\u001B[0m\u001B[37m\u001B[0m \u001B[1m0s\u001B[0m 2ms/step - accuracy: 0.8272 - loss: 0.4211 - val_accuracy: 0.4522 - val_loss: 1.5084\n",
      "Epoch 75/100\n",
      "\u001B[1m94/94\u001B[0m \u001B[32m━━━━━━━━━━━━━━━━━━━━\u001B[0m\u001B[37m\u001B[0m \u001B[1m0s\u001B[0m 2ms/step - accuracy: 0.8285 - loss: 0.4097 - val_accuracy: 0.4227 - val_loss: 1.6433\n",
      "Epoch 76/100\n",
      "\u001B[1m94/94\u001B[0m \u001B[32m━━━━━━━━━━━━━━━━━━━━\u001B[0m\u001B[37m\u001B[0m \u001B[1m0s\u001B[0m 2ms/step - accuracy: 0.8228 - loss: 0.4285 - val_accuracy: 0.4605 - val_loss: 1.5340\n",
      "Epoch 77/100\n",
      "\u001B[1m94/94\u001B[0m \u001B[32m━━━━━━━━━━━━━━━━━━━━\u001B[0m\u001B[37m\u001B[0m \u001B[1m0s\u001B[0m 2ms/step - accuracy: 0.8359 - loss: 0.4004 - val_accuracy: 0.4399 - val_loss: 1.5641\n",
      "Epoch 78/100\n",
      "\u001B[1m94/94\u001B[0m \u001B[32m━━━━━━━━━━━━━━━━━━━━\u001B[0m\u001B[37m\u001B[0m \u001B[1m0s\u001B[0m 2ms/step - accuracy: 0.8351 - loss: 0.3773 - val_accuracy: 0.4277 - val_loss: 1.4906\n",
      "Epoch 79/100\n",
      "\u001B[1m94/94\u001B[0m \u001B[32m━━━━━━━━━━━━━━━━━━━━\u001B[0m\u001B[37m\u001B[0m \u001B[1m0s\u001B[0m 2ms/step - accuracy: 0.8384 - loss: 0.3905 - val_accuracy: 0.4461 - val_loss: 1.5951\n",
      "Epoch 80/100\n",
      "\u001B[1m94/94\u001B[0m \u001B[32m━━━━━━━━━━━━━━━━━━━━\u001B[0m\u001B[37m\u001B[0m \u001B[1m0s\u001B[0m 2ms/step - accuracy: 0.8516 - loss: 0.3605 - val_accuracy: 0.4366 - val_loss: 1.5552\n",
      "Epoch 81/100\n",
      "\u001B[1m94/94\u001B[0m \u001B[32m━━━━━━━━━━━━━━━━━━━━\u001B[0m\u001B[37m\u001B[0m \u001B[1m0s\u001B[0m 2ms/step - accuracy: 0.8324 - loss: 0.4047 - val_accuracy: 0.4405 - val_loss: 1.6179\n",
      "Epoch 82/100\n",
      "\u001B[1m94/94\u001B[0m \u001B[32m━━━━━━━━━━━━━━━━━━━━\u001B[0m\u001B[37m\u001B[0m \u001B[1m0s\u001B[0m 2ms/step - accuracy: 0.8349 - loss: 0.4078 - val_accuracy: 0.4232 - val_loss: 1.7177\n",
      "Epoch 83/100\n",
      "\u001B[1m94/94\u001B[0m \u001B[32m━━━━━━━━━━━━━━━━━━━━\u001B[0m\u001B[37m\u001B[0m \u001B[1m0s\u001B[0m 2ms/step - accuracy: 0.8336 - loss: 0.3866 - val_accuracy: 0.4305 - val_loss: 1.6254\n",
      "Epoch 84/100\n",
      "\u001B[1m94/94\u001B[0m \u001B[32m━━━━━━━━━━━━━━━━━━━━\u001B[0m\u001B[37m\u001B[0m \u001B[1m0s\u001B[0m 2ms/step - accuracy: 0.8471 - loss: 0.3798 - val_accuracy: 0.4327 - val_loss: 1.7652\n",
      "Epoch 85/100\n",
      "\u001B[1m94/94\u001B[0m \u001B[32m━━━━━━━━━━━━━━━━━━━━\u001B[0m\u001B[37m\u001B[0m \u001B[1m0s\u001B[0m 2ms/step - accuracy: 0.8416 - loss: 0.3750 - val_accuracy: 0.4516 - val_loss: 1.6158\n",
      "Epoch 86/100\n",
      "\u001B[1m94/94\u001B[0m \u001B[32m━━━━━━━━━━━━━━━━━━━━\u001B[0m\u001B[37m\u001B[0m \u001B[1m0s\u001B[0m 3ms/step - accuracy: 0.8431 - loss: 0.3722 - val_accuracy: 0.4405 - val_loss: 1.6549\n",
      "Epoch 87/100\n",
      "\u001B[1m94/94\u001B[0m \u001B[32m━━━━━━━━━━━━━━━━━━━━\u001B[0m\u001B[37m\u001B[0m \u001B[1m0s\u001B[0m 2ms/step - accuracy: 0.8682 - loss: 0.3389 - val_accuracy: 0.4321 - val_loss: 1.7414\n",
      "Epoch 88/100\n",
      "\u001B[1m94/94\u001B[0m \u001B[32m━━━━━━━━━━━━━━━━━━━━\u001B[0m\u001B[37m\u001B[0m \u001B[1m0s\u001B[0m 2ms/step - accuracy: 0.8568 - loss: 0.3613 - val_accuracy: 0.4433 - val_loss: 1.7576\n",
      "Epoch 89/100\n",
      "\u001B[1m94/94\u001B[0m \u001B[32m━━━━━━━━━━━━━━━━━━━━\u001B[0m\u001B[37m\u001B[0m \u001B[1m0s\u001B[0m 2ms/step - accuracy: 0.8452 - loss: 0.3744 - val_accuracy: 0.4405 - val_loss: 1.6846\n",
      "Epoch 90/100\n",
      "\u001B[1m94/94\u001B[0m \u001B[32m━━━━━━━━━━━━━━━━━━━━\u001B[0m\u001B[37m\u001B[0m \u001B[1m0s\u001B[0m 2ms/step - accuracy: 0.8593 - loss: 0.3374 - val_accuracy: 0.4472 - val_loss: 1.6008\n",
      "Epoch 91/100\n",
      "\u001B[1m94/94\u001B[0m \u001B[32m━━━━━━━━━━━━━━━━━━━━\u001B[0m\u001B[37m\u001B[0m \u001B[1m0s\u001B[0m 2ms/step - accuracy: 0.8625 - loss: 0.3424 - val_accuracy: 0.4388 - val_loss: 1.7445\n",
      "Epoch 92/100\n",
      "\u001B[1m94/94\u001B[0m \u001B[32m━━━━━━━━━━━━━━━━━━━━\u001B[0m\u001B[37m\u001B[0m \u001B[1m0s\u001B[0m 2ms/step - accuracy: 0.8587 - loss: 0.3502 - val_accuracy: 0.4477 - val_loss: 1.7567\n",
      "Epoch 93/100\n",
      "\u001B[1m94/94\u001B[0m \u001B[32m━━━━━━━━━━━━━━━━━━━━\u001B[0m\u001B[37m\u001B[0m \u001B[1m0s\u001B[0m 2ms/step - accuracy: 0.8706 - loss: 0.3320 - val_accuracy: 0.4366 - val_loss: 1.6499\n",
      "Epoch 94/100\n",
      "\u001B[1m94/94\u001B[0m \u001B[32m━━━━━━━━━━━━━━━━━━━━\u001B[0m\u001B[37m\u001B[0m \u001B[1m0s\u001B[0m 2ms/step - accuracy: 0.8716 - loss: 0.3179 - val_accuracy: 0.4383 - val_loss: 1.7467\n",
      "Epoch 95/100\n",
      "\u001B[1m94/94\u001B[0m \u001B[32m━━━━━━━━━━━━━━━━━━━━\u001B[0m\u001B[37m\u001B[0m \u001B[1m0s\u001B[0m 3ms/step - accuracy: 0.8505 - loss: 0.3647 - val_accuracy: 0.4461 - val_loss: 1.7271\n",
      "Epoch 96/100\n",
      "\u001B[1m94/94\u001B[0m \u001B[32m━━━━━━━━━━━━━━━━━━━━\u001B[0m\u001B[37m\u001B[0m \u001B[1m0s\u001B[0m 2ms/step - accuracy: 0.8551 - loss: 0.3703 - val_accuracy: 0.4227 - val_loss: 1.7508\n",
      "Epoch 97/100\n",
      "\u001B[1m94/94\u001B[0m \u001B[32m━━━━━━━━━━━━━━━━━━━━\u001B[0m\u001B[37m\u001B[0m \u001B[1m0s\u001B[0m 2ms/step - accuracy: 0.8616 - loss: 0.3369 - val_accuracy: 0.4533 - val_loss: 1.6288\n",
      "Epoch 98/100\n",
      "\u001B[1m94/94\u001B[0m \u001B[32m━━━━━━━━━━━━━━━━━━━━\u001B[0m\u001B[37m\u001B[0m \u001B[1m0s\u001B[0m 2ms/step - accuracy: 0.8550 - loss: 0.3472 - val_accuracy: 0.4433 - val_loss: 1.7606\n",
      "Epoch 99/100\n",
      "\u001B[1m94/94\u001B[0m \u001B[32m━━━━━━━━━━━━━━━━━━━━\u001B[0m\u001B[37m\u001B[0m \u001B[1m0s\u001B[0m 2ms/step - accuracy: 0.8615 - loss: 0.3396 - val_accuracy: 0.4260 - val_loss: 1.7354\n",
      "Epoch 100/100\n",
      "\u001B[1m94/94\u001B[0m \u001B[32m━━━━━━━━━━━━━━━━━━━━\u001B[0m\u001B[37m\u001B[0m \u001B[1m0s\u001B[0m 2ms/step - accuracy: 0.8731 - loss: 0.3222 - val_accuracy: 0.4271 - val_loss: 1.7439\n"
     ]
    }
   ],
   "execution_count": 14
  },
  {
   "metadata": {
    "ExecuteTime": {
     "end_time": "2024-12-05T13:56:13.197379Z",
     "start_time": "2024-12-05T13:56:12.595141Z"
    }
   },
   "cell_type": "code",
   "source": [
    "res_dir = '../Results/CNN/High_speed/563/'\n",
    "sensors = 'g'\n",
    "# Evaluate the model on the test data\n",
    "test_loss, test_accuracy = model.evaluate(X_test, y_test, verbose=0)\n",
    "\n",
    "# Predict the classes for the test data\n",
    "y_pred = model.predict(X_test)\n",
    "y_pred_classes = np.argmax(y_pred, axis=1)\n",
    "y_true_classes = np.argmax(y_test, axis=1)\n",
    "\n",
    "# Classification report\n",
    "report = classification_report(y_true_classes, y_pred_classes)\n",
    "print(\"Classification Report:\\n\", report)\n",
    "\n",
    "# Save the classification report\n",
    "with open(res_dir + 'CNN_'+ sensors + '_classification_report.txt', 'w') as f:\n",
    "    f.write(report)\n",
    "\n",
    "# Confusion matrix\n",
    "conf_matrix = confusion_matrix(y_true_classes, y_pred_classes)\n",
    "\n",
    "# Plot confusion matrix\n",
    "plt.figure(figsize=(10, 7))\n",
    "sns.heatmap(conf_matrix, annot=True, fmt='d', cmap='Blues')\n",
    "plt.title('Confusion Matrix')\n",
    "plt.xlabel('Predicted Class')\n",
    "plt.ylabel('True Class')\n",
    "plt.savefig(res_dir + 'CNN_' + sensors + '_confusion_matrix.png')\n",
    "plt.show()\n",
    "\n",
    "# Plot training & validation accuracy values\n",
    "plt.figure(figsize=(12, 4))\n",
    "plt.subplot(1, 2, 1)\n",
    "plt.plot(history.history['accuracy'])\n",
    "plt.plot(history.history['val_accuracy'])\n",
    "plt.title('Model accuracy')\n",
    "plt.ylabel('Accuracy')\n",
    "plt.xlabel('Epoch')\n",
    "plt.legend(['Train', 'Test'], loc='upper left')\n",
    "\n",
    "# Plot training & validation loss values\n",
    "plt.subplot(1, 2, 2)\n",
    "plt.plot(history.history['loss'])\n",
    "plt.plot(history.history['val_loss'])\n",
    "plt.title('Model loss')\n",
    "plt.ylabel('Loss')\n",
    "plt.xlabel('Epoch')\n",
    "plt.legend(['Train', 'Test'], loc='upper left')\n",
    "plt.savefig(res_dir + 'CNN_' + sensors + '_accuracy_loss.png')\n",
    "plt.show()\n",
    "\n",
    "# Print final test loss and accuracy\n",
    "print(f\"Test Loss: {test_loss}\")\n",
    "print(f\"Test Accuracy: {test_accuracy}\")"
   ],
   "id": "3d3a5ed221aa92ce",
   "outputs": [
    {
     "name": "stdout",
     "output_type": "stream",
     "text": [
      "\u001B[1m57/57\u001B[0m \u001B[32m━━━━━━━━━━━━━━━━━━━━\u001B[0m\u001B[37m\u001B[0m \u001B[1m0s\u001B[0m 2ms/step\n",
      "Classification Report:\n",
      "               precision    recall  f1-score   support\n",
      "\n",
      "           0       0.41      0.63      0.49       600\n",
      "           1       0.47      0.34      0.39       600\n",
      "           2       0.43      0.31      0.36       598\n",
      "\n",
      "    accuracy                           0.43      1798\n",
      "   macro avg       0.44      0.43      0.42      1798\n",
      "weighted avg       0.44      0.43      0.42      1798\n",
      "\n"
     ]
    },
    {
     "data": {
      "text/plain": [
       "<Figure size 1000x700 with 2 Axes>"
      ],
      "image/png": "[encoded data removed]"
     },
     "metadata": {},
     "output_type": "display_data"
    },
    {
     "data": {
      "text/plain": [
       "<Figure size 1200x400 with 2 Axes>"
      ],
      "image/png": "[encoded data removed]"
     },
     "metadata": {},
     "output_type": "display_data"
    },
    {
     "name": "stdout",
     "output_type": "stream",
     "text": [
      "Test Loss: 1.743878960609436\n",
      "Test Accuracy: 0.4271412789821625\n"
     ]
    }
   ],
   "execution_count": 15
  }
 ],
 "metadata": {
  "kernelspec": {
   "display_name": "Python 3",
   "language": "python",
   "name": "python3"
  },
  "language_info": {
   "codemirror_mode": {
    "name": "ipython",
    "version": 2
   },
   "file_extension": ".py",
   "mimetype": "text/x-python",
   "name": "python",
   "nbconvert_exporter": "python",
   "pygments_lexer": "ipython2",
   "version": "2.7.6"
  }
 },
 "nbformat": 4,
 "nbformat_minor": 5
}
