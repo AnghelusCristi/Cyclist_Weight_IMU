{
 "cells": [
  {
   "metadata": {},
   "cell_type": "markdown",
   "source": "#### Combine the data from the folders into a single CSV file.",
   "id": "fdafc57dc7e47f4a"
  },
  {
   "metadata": {
    "ExecuteTime": {
     "end_time": "2024-06-06T09:20:22.046885Z",
     "start_time": "2024-06-06T09:19:27.844145Z"
    }
   },
   "cell_type": "code",
   "source": [
    "import pandas as pd\n",
    "import os\n",
    "\n",
    "data_dir = 'Data'\n",
    "speeds = ['Low speed', 'Medium speed', 'High speed'] # Speed categories.\n",
    "\n",
    "# List to store all the Dataframes\n",
    "dfs = []\n",
    "\n",
    "for speed in speeds:\n",
    "    speed_dir = os.path.join(data_dir, speed)\n",
    "    for file in os.listdir(speed_dir):\n",
    "        if file.endswith('.csv'):\n",
    "            file_path = os.path.join(speed_dir, file)\n",
    "            df = pd.read_csv(file_path, skiprows=17)\n",
    "            df = df[['timestamp', 'ax', 'ay', 'az', 'gx', 'gy', 'gz']]\n",
    "            # Extract weight from the file name.\n",
    "            node_id = file.split('-')[0]\n",
    "            weight = file.split('-')[1].replace('kg.csv', '')\n",
    "            \n",
    "            df_new = pd.DataFrame({'speed': [speed]*len(df), 'weight': [weight]*len(df), 'node-id': [node_id]*len(df)})\n",
    "            # Concatenate the new DataFrame with the original DataFrame\n",
    "            df = pd.concat([df_new, df], axis=1)\n",
    "            # Remove the extra rows to have exactly 5 minutes (200 samples/s * 5 min = 60000 samples)\n",
    "            if len(df) > 60000:\n",
    "                drop_rows = len(df) - 60000\n",
    "                df = df.iloc[drop_rows:]\n",
    "            # Reset the index\n",
    "            df = df.reset_index(drop=True)\n",
    "\n",
    "            # Append the DataFrame to the list\n",
    "            dfs.append(df)\n",
    "\n",
    "# Concatenate all the DataFrames\n",
    "df_combined = pd.concat(dfs, ignore_index=True)"
   ],
   "id": "49c35d33fca850a3",
   "outputs": [],
   "execution_count": 1
  },
  {
   "metadata": {
    "ExecuteTime": {
     "end_time": "2024-06-06T09:23:43.336077Z",
     "start_time": "2024-06-06T09:21:29.859908Z"
    }
   },
   "cell_type": "code",
   "source": [
    "# Define the order of the categories\n",
    "df_combined['speed'] = pd.Categorical(df_combined['speed'], categories=['Low speed', 'Medium speed', 'High speed'], ordered=True)\n",
    "\n",
    "df_combined['weight'] = df_combined['weight'].astype(float)\n",
    "\n",
    "# Sort the DataFrame based on 'speed' and 'weight'\n",
    "df_combined = df_combined.sort_values(by=['speed', 'weight'])\n",
    "\n",
    "# Define the mapping\n",
    "speed_mapping = {'Low speed': 0, 'Medium speed': 1, 'High speed': 2}\n",
    "\n",
    "# Replace the 'speed' column with the mapped values\n",
    "df_combined['speed'] = df_combined['speed'].map(speed_mapping)\n",
    "\n",
    "df_combined = df_combined.reset_index(drop=True)\n",
    "\n",
    "# Save the combined DataFrame to a CSV file\n",
    "df_combined.to_csv('Data/combined_data.csv', index=False)"
   ],
   "id": "963169b70b93cd00",
   "outputs": [],
   "execution_count": 2
  }
 ],
 "metadata": {
  "kernelspec": {
   "display_name": "Python 3",
   "language": "python",
   "name": "python3"
  },
  "language_info": {
   "codemirror_mode": {
    "name": "ipython",
    "version": 2
   },
   "file_extension": ".py",
   "mimetype": "text/x-python",
   "name": "python",
   "nbconvert_exporter": "python",
   "pygments_lexer": "ipython2",
   "version": "2.7.6"
  }
 },
 "nbformat": 4,
 "nbformat_minor": 5
}
