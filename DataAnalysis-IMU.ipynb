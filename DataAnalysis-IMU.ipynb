{
 "cells": [
  {
   "cell_type": "code",
   "id": "7d7955a7-0b89-4c51-a68a-005c322b0de9",
   "metadata": {
    "ExecuteTime": {
     "end_time": "2024-12-05T13:49:49.971923Z",
     "start_time": "2024-12-05T13:49:49.922206Z"
    }
   },
   "source": [
    "import pandas as pd\n",
    "import numpy as np\n",
    "import matplotlib.pyplot as plt\n",
    "from sklearn.preprocessing import StandardScaler, MinMaxScaler, Normalizer\n",
    "import glob\n",
    "import os\n",
    "import shutil\n",
    "import csv"
   ],
   "outputs": [],
   "execution_count": 1
  },
  {
   "cell_type": "markdown",
   "id": "6e40bf1c-4d81-4a37-9df6-426a482e82e4",
   "metadata": {},
   "source": [
    "Start/Stop times:\n",
    "\n",
    "T1 start: 14:32\n",
    "T1 stop: 14:46\n",
    "T2 start: 15:06\n",
    "T2 stop: 15:18\n",
    "T3 start: 15:27\n",
    "T3 stop: 15:38"
   ]
  },
  {
   "cell_type": "code",
   "id": "ba3c8f11-c665-424f-b84b-a0e3816c619b",
   "metadata": {
    "ExecuteTime": {
     "end_time": "2024-12-05T13:50:42.314311Z",
     "start_time": "2024-12-05T13:50:42.307926Z"
    }
   },
   "source": [
    "imu_ids = []\n",
    "placement_mapping = {}\n",
    "for i in glob.glob('IMU*'):\n",
    "    folder_name_parts = i.split('-', maxsplit=6)\n",
    "    imu_id = folder_name_parts[1]\n",
    "    placement = folder_name_parts[2]\n",
    "    imu_ids.append(imu_id)\n",
    "    placement_mapping[imu_id] = placement\n",
    "    for j in glob.glob(i+'/*.csv'):\n",
    "        with open(j, \"r\") as f:\n",
    "            reader = csv.reader(f, delimiter=\"\\t\")\n",
    "            for i, line in enumerate(reader):\n",
    "                if i == 2: \n",
    "                    time_start = line[0].split(',', maxsplit=6)[1]\n",
    "                    print(time_start)\n",
    "                    break\n",
    "        df_imu = pd.read_csv(j, skiprows=17, delimiter=',')\n",
    "        df_imu[['ax','ay','az']].plot(title=placement)\n",
    "        df_imu[['gx','gy','gz']].plot(title=placement)\n",
    "        break\n",
    "    # break"
   ],
   "outputs": [],
   "execution_count": 9
  },
  {
   "cell_type": "code",
   "id": "4d871695-adfd-482c-9d7d-ed022c8bfa7b",
   "metadata": {
    "ExecuteTime": {
     "end_time": "2024-12-05T13:50:47.757026Z",
     "start_time": "2024-12-05T13:50:47.744185Z"
    }
   },
   "source": "time_list = df_imu['timestamp'] - df_imu['timestamp'][0]",
   "outputs": [
    {
     "ename": "NameError",
     "evalue": "name 'df_imu' is not defined",
     "output_type": "error",
     "traceback": [
      "\u001B[1;31m---------------------------------------------------------------------------\u001B[0m",
      "\u001B[1;31mNameError\u001B[0m                                 Traceback (most recent call last)",
      "Cell \u001B[1;32mIn[10], line 1\u001B[0m\n\u001B[1;32m----> 1\u001B[0m time_list \u001B[38;5;241m=\u001B[39m \u001B[43mdf_imu\u001B[49m[\u001B[38;5;124m'\u001B[39m\u001B[38;5;124mtimestamp\u001B[39m\u001B[38;5;124m'\u001B[39m] \u001B[38;5;241m-\u001B[39m df_imu[\u001B[38;5;124m'\u001B[39m\u001B[38;5;124mtimestamp\u001B[39m\u001B[38;5;124m'\u001B[39m][\u001B[38;5;241m0\u001B[39m]\n",
      "\u001B[1;31mNameError\u001B[0m: name 'df_imu' is not defined"
     ]
    }
   ],
   "execution_count": 10
  },
  {
   "cell_type": "code",
   "id": "8e8f5335-c78c-4d11-a89f-bb8ffce9dfc1",
   "metadata": {
    "ExecuteTime": {
     "end_time": "2024-12-05T13:50:49.984583Z",
     "start_time": "2024-12-05T13:50:49.976090Z"
    }
   },
   "source": [
    "df_imu[['ax','ay','az']].plot()"
   ],
   "outputs": [
    {
     "ename": "NameError",
     "evalue": "name 'df_imu' is not defined",
     "output_type": "error",
     "traceback": [
      "\u001B[1;31m---------------------------------------------------------------------------\u001B[0m",
      "\u001B[1;31mNameError\u001B[0m                                 Traceback (most recent call last)",
      "Cell \u001B[1;32mIn[11], line 1\u001B[0m\n\u001B[1;32m----> 1\u001B[0m \u001B[43mdf_imu\u001B[49m[[\u001B[38;5;124m'\u001B[39m\u001B[38;5;124max\u001B[39m\u001B[38;5;124m'\u001B[39m,\u001B[38;5;124m'\u001B[39m\u001B[38;5;124may\u001B[39m\u001B[38;5;124m'\u001B[39m,\u001B[38;5;124m'\u001B[39m\u001B[38;5;124maz\u001B[39m\u001B[38;5;124m'\u001B[39m]]\u001B[38;5;241m.\u001B[39mplot()\n",
      "\u001B[1;31mNameError\u001B[0m: name 'df_imu' is not defined"
     ]
    }
   ],
   "execution_count": 11
  }
 ],
 "metadata": {
  "kernelspec": {
   "display_name": "Python 3 (ipykernel)",
   "language": "python",
   "name": "python3"
  },
  "language_info": {
   "codemirror_mode": {
    "name": "ipython",
    "version": 3
   },
   "file_extension": ".py",
   "mimetype": "text/x-python",
   "name": "python",
   "nbconvert_exporter": "python",
   "pygments_lexer": "ipython3",
   "version": "3.12.3"
  }
 },
 "nbformat": 4,
 "nbformat_minor": 5
}
