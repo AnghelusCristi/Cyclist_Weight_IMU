{
 "cells": [
  {
   "metadata": {},
   "cell_type": "markdown",
   "source": "### Imports",
   "id": "f273d2718952905e"
  },
  {
   "metadata": {
    "ExecuteTime": {
     "end_time": "2024-12-05T14:20:19.986183Z",
     "start_time": "2024-12-05T14:20:19.344136Z"
    }
   },
   "cell_type": "code",
   "source": [
    "import os\n",
    "import numpy as np\n",
    "import pandas as pd\n",
    "import seaborn as sns\n",
    "from matplotlib import pyplot as plt\n",
    "from scipy import stats\n",
    "from scipy.signal import find_peaks\n",
    "from sklearn.linear_model import LogisticRegression\n",
    "from sklearn.metrics import accuracy_score, classification_report, confusion_matrix\n",
    "from sklearn.neighbors import KNeighborsClassifier\n",
    "from sklearn.preprocessing import StandardScaler\n",
    "from sklearn.svm import SVC\n",
    "from sklearn.tree import DecisionTreeClassifier"
   ],
   "id": "69dd0aa116008777",
   "outputs": [],
   "execution_count": 1
  },
  {
   "metadata": {
    "ExecuteTime": {
     "end_time": "2024-12-05T14:20:23.962123Z",
     "start_time": "2024-12-05T14:20:19.991191Z"
    }
   },
   "cell_type": "code",
   "source": [
    "# Import only the medium speed data\n",
    "df = pd.read_csv('../Data/combined_data.csv')\n",
    "df_med = df[df['speed'] == 1].copy()"
   ],
   "id": "4ebbdb9c5f0dba90",
   "outputs": [],
   "execution_count": 2
  },
  {
   "metadata": {
    "ExecuteTime": {
     "end_time": "2024-12-05T14:20:24.220349Z",
     "start_time": "2024-12-05T14:20:24.172560Z"
    }
   },
   "cell_type": "code",
   "source": [
    "# Divide the data into classes based on weight.\n",
    "num_classes = 3\n",
    "df_med.loc[:, 'weight_class'] = pd.qcut(df_med['weight'], q=num_classes, labels=False)"
   ],
   "id": "7e786c46f2fa2b3d",
   "outputs": [],
   "execution_count": 3
  },
  {
   "metadata": {
    "ExecuteTime": {
     "end_time": "2024-12-05T14:20:24.317061Z",
     "start_time": "2024-12-05T14:20:24.240523Z"
    }
   },
   "cell_type": "code",
   "source": [
    "# Group the DataFrame by 'weight_class' and get unique 'weight' in each group\n",
    "weights_by_class= df_med.groupby('weight_class')['weight'].unique()\n",
    "\n",
    "weights_by_class"
   ],
   "id": "71c42a8938de176c",
   "outputs": [
    {
     "data": {
      "text/plain": [
       "weight_class\n",
       "0    [85.1, 86.7, 88.35, 89.4, 90.6, 91.95]\n",
       "1           [93.35, 94.5, 95.0, 96.1, 97.6]\n",
       "2       [98.85, 100.0, 101.6, 103.0, 104.5]\n",
       "Name: weight, dtype: object"
      ]
     },
     "execution_count": 4,
     "metadata": {},
     "output_type": "execute_result"
    }
   ],
   "execution_count": 4
  },
  {
   "metadata": {
    "ExecuteTime": {
     "end_time": "2024-12-05T14:20:24.340252Z",
     "start_time": "2024-12-05T14:20:24.336536Z"
    }
   },
   "cell_type": "code",
   "source": [
    "def train_test():\n",
    "    # Split the data into training and testing sets\n",
    "    df_train = pd.DataFrame()\n",
    "    df_test = pd.DataFrame()\n",
    "    weights_by_class = df_med.groupby('weight_class')['weight'].unique()\n",
    "    \n",
    "    for weight_class, weights in weights_by_class.items():\n",
    "        weights = sorted(weights)\n",
    "        test_weights = [weights[1], weights[3]]  # Select the testing weights\n",
    "        train_weights = [weight for i, weight in enumerate(weights) if i not in [1, 3]]  # Exclude the testing weights\n",
    "        \n",
    "        df_test = pd.concat([df_test, df_med[(df_med['weight_class'] == weight_class) & (df_med['weight'].isin(test_weights))]], ignore_index=True)\n",
    "        for weight in train_weights:\n",
    "            df_train = pd.concat([df_train, df_med[(df_med['weight_class'] == weight_class) & (df_med['weight'] == weight)]], ignore_index=True)\n",
    "    \n",
    "    df_train = df_train.reset_index(drop=True)\n",
    "    df_test = df_test.reset_index(drop=True)\n",
    "    return df_train, df_test"
   ],
   "id": "86074726d093055e",
   "outputs": [],
   "execution_count": 5
  },
  {
   "metadata": {},
   "cell_type": "markdown",
   "source": "### Extract features",
   "id": "b7350ce160da3dee"
  },
  {
   "metadata": {
    "ExecuteTime": {
     "end_time": "2024-12-05T14:20:24.441966Z",
     "start_time": "2024-12-05T14:20:24.384403Z"
    }
   },
   "cell_type": "code",
   "source": [
    "# Feature extraction function\n",
    "# Credit to: https://towardsdatascience.com/feature-engineering-on-time-series-data-transforming-signal-data-of-a-smartphone-accelerometer-for-72cbe34b8a60\n",
    "\n",
    "def extract_features(df, window_size, step_size):\n",
    "    ax_list, ay_list, az_list, labels = [], [], [], []\n",
    "    for i in range(0, df.shape[0] - window_size, step_size):\n",
    "        axs = df['gx'].values[i: i + window_size]\n",
    "        ays = df['gy'].values[i: i + window_size]\n",
    "        azs = df['gz'].values[i: i + window_size]\n",
    "        label = df['weight_class'].iloc[i: i + window_size].mode()[0]\n",
    "        \n",
    "        ax_list.append(axs)\n",
    "        ay_list.append(ays)\n",
    "        az_list.append(azs)\n",
    "        labels.append(label)\n",
    "    \n",
    "    X = pd.DataFrame()\n",
    "    \n",
    "    X['x_mean'] = pd.Series(ax_list).apply(lambda x: x.mean())\n",
    "    X['y_mean'] = pd.Series(ay_list).apply(lambda x: x.mean())\n",
    "    X['z_mean'] = pd.Series(az_list).apply(lambda x: x.mean())\n",
    "\n",
    "    X['x_std'] = pd.Series(ax_list).apply(lambda x: x.std())\n",
    "    X['y_std'] = pd.Series(ay_list).apply(lambda x: x.std())\n",
    "    X['z_std'] = pd.Series(az_list).apply(lambda x: x.std())\n",
    "\n",
    "    X['x_aad'] = pd.Series(ax_list).apply(lambda x: np.mean(np.absolute(x - np.mean(x))))\n",
    "    X['y_aad'] = pd.Series(ay_list).apply(lambda x: np.mean(np.absolute(x - np.mean(x))))\n",
    "    X['z_aad'] = pd.Series(az_list).apply(lambda x: np.mean(np.absolute(x - np.mean(x))))\n",
    "\n",
    "    X['x_min'] = pd.Series(ax_list).apply(lambda x: x.min())\n",
    "    X['y_min'] = pd.Series(ay_list).apply(lambda x: x.min())\n",
    "    X['z_min'] = pd.Series(az_list).apply(lambda x: x.min())\n",
    "\n",
    "    X['x_max'] = pd.Series(ax_list).apply(lambda x: x.max())\n",
    "    X['y_max'] = pd.Series(ay_list).apply(lambda x: x.max())\n",
    "    X['z_max'] = pd.Series(az_list).apply(lambda x: x.max())\n",
    "\n",
    "    X['x_maxmin_diff'] = X['x_max'] - X['x_min']\n",
    "    X['y_maxmin_diff'] = X['y_max'] - X['y_min']\n",
    "    X['z_maxmin_diff'] = X['z_max'] - X['z_min']\n",
    "    \n",
    "    X['x_median'] = pd.Series(ax_list).apply(lambda x: np.median(x))\n",
    "    X['y_median'] = pd.Series(ay_list).apply(lambda x: np.median(x))\n",
    "    X['z_median'] = pd.Series(az_list).apply(lambda x: np.median(x))\n",
    "    \n",
    "    X['x_mad'] = pd.Series(ax_list).apply(lambda x: np.median(np.absolute(x - np.median(x))))\n",
    "    X['y_mad'] = pd.Series(ay_list).apply(lambda x: np.median(np.absolute(x - np.median(x))))\n",
    "    X['z_mad'] = pd.Series(az_list).apply(lambda x: np.median(np.absolute(x - np.median(x))))\n",
    "    \n",
    "    X['x_IQR'] = pd.Series(ax_list).apply(lambda x: np.percentile(x, 75) - np.percentile(x, 25))\n",
    "    X['y_IQR'] = pd.Series(ay_list).apply(lambda x: np.percentile(x, 75) - np.percentile(x, 25))\n",
    "    X['z_IQR'] = pd.Series(az_list).apply(lambda x: np.percentile(x, 75) - np.percentile(x, 25))\n",
    "    \n",
    "    X['x_neg_count'] = pd.Series(ax_list).apply(lambda x: np.sum(x < 0))\n",
    "    X['y_neg_count'] = pd.Series(ay_list).apply(lambda x: np.sum(x < 0))\n",
    "    X['z_neg_count'] = pd.Series(az_list).apply(lambda x: np.sum(x < 0))\n",
    "    \n",
    "    X['x_pos_count'] = pd.Series(ax_list).apply(lambda x: np.sum(x > 0))\n",
    "    X['y_pos_count'] = pd.Series(ay_list).apply(lambda x: np.sum(x > 0))\n",
    "    X['z_pos_count'] = pd.Series(az_list).apply(lambda x: np.sum(x > 0))\n",
    "    \n",
    "    X['x_above_mean'] = pd.Series(ax_list).apply(lambda x: np.sum(x > x.mean()))\n",
    "    X['y_above_mean'] = pd.Series(ay_list).apply(lambda x: np.sum(x > x.mean()))\n",
    "    X['z_above_mean'] = pd.Series(az_list).apply(lambda x: np.sum(x > x.mean()))\n",
    "    \n",
    "    X['x_peak_count'] = pd.Series(ax_list).apply(lambda x: len(find_peaks(x)[0]))\n",
    "    X['y_peak_count'] = pd.Series(ay_list).apply(lambda x: len(find_peaks(x)[0]))\n",
    "    X['z_peak_count'] = pd.Series(az_list).apply(lambda x: len(find_peaks(x)[0]))\n",
    "    \n",
    "    X['x_skewness'] = pd.Series(ax_list).apply(lambda x: stats.skew(x))\n",
    "    X['y_skewness'] = pd.Series(ay_list).apply(lambda x: stats.skew(x))\n",
    "    X['z_skewness'] = pd.Series(az_list).apply(lambda x: stats.skew(x))\n",
    "    \n",
    "    X['x_kurtosis'] = pd.Series(ax_list).apply(lambda x: stats.kurtosis(x))\n",
    "    X['y_kurtosis'] = pd.Series(ay_list).apply(lambda x: stats.kurtosis(x))\n",
    "    X['z_kurtosis'] = pd.Series(az_list).apply(lambda x: stats.kurtosis(x))\n",
    "    \n",
    "    X['x_energy'] = pd.Series(ax_list).apply(lambda x: np.sum(x**2)/100)\n",
    "    X['y_energy'] = pd.Series(ay_list).apply(lambda x: np.sum(x**2)/100)\n",
    "    X['z_energy'] = pd.Series(az_list).apply(lambda x: np.sum(x**2/100))\n",
    "    \n",
    "    X['avg_result_accl'] = [i.mean() for i in ((pd.Series(ax_list)**2 + pd.Series(ay_list)**2 + pd.Series(az_list)**2)**0.5)]\n",
    "    X['sma'] = pd.Series(ax_list).apply(lambda x: np.sum(abs(x)/100)) + pd.Series(ay_list).apply(lambda x: np.sum(abs(x)/100)) + pd.Series(az_list).apply(lambda x: np.sum(abs(x)/100))\n",
    "    \n",
    "    # FFT features\n",
    "    x_list_fft = pd.Series(ax_list).apply(lambda x: np.abs(np.fft.fft(x))[1:51])\n",
    "    y_list_fft = pd.Series(ay_list).apply(lambda x: np.abs(np.fft.fft(x))[1:51])\n",
    "    z_list_fft = pd.Series(az_list).apply(lambda x: np.abs(np.fft.fft(x))[1:51])\n",
    "    \n",
    "    X['x_mean_fft'] = x_list_fft.apply(lambda x: x.mean())\n",
    "    X['y_mean_fft'] = y_list_fft.apply(lambda x: x.mean())\n",
    "    X['z_mean_fft'] = z_list_fft.apply(lambda x: x.mean())\n",
    "    \n",
    "    X['x_std_fft'] = x_list_fft.apply(lambda x: x.std())\n",
    "    X['y_std_fft'] = y_list_fft.apply(lambda x: x.std())\n",
    "    X['z_std_fft'] = z_list_fft.apply(lambda x: x.std())\n",
    "    \n",
    "    X['x_aad_fft'] = x_list_fft.apply(lambda x: np.mean(np.absolute(x - np.mean(x))))\n",
    "    X['y_aad_fft'] = y_list_fft.apply(lambda x: np.mean(np.absolute(x - np.mean(x))))\n",
    "    X['z_aad_fft'] = z_list_fft.apply(lambda x: np.mean(np.absolute(x - np.mean(x))))\n",
    "    \n",
    "    X['x_min_fft'] = x_list_fft.apply(lambda x: x.min())\n",
    "    X['y_min_fft'] = y_list_fft.apply(lambda x: x.min())\n",
    "    X['z_min_fft'] = z_list_fft.apply(lambda x: x.min())\n",
    "    \n",
    "    X['x_max_fft'] = x_list_fft.apply(lambda x: x.max())\n",
    "    X['y_max_fft'] = y_list_fft.apply(lambda x: x.max())\n",
    "    X['z_max_fft'] = z_list_fft.apply(lambda x: x.max())\n",
    "    \n",
    "    X['x_maxmin_diff_fft'] = X['x_max_fft'] - X['x_min_fft']\n",
    "    X['y_maxmin_diff_fft'] = X['y_max_fft'] - X['y_min_fft']\n",
    "    X['z_maxmin_diff_fft'] = X['z_max_fft'] - X['z_min_fft']\n",
    "    \n",
    "    X['x_median_fft'] = x_list_fft.apply(lambda x: np.median(x))\n",
    "    X['y_median_fft'] = y_list_fft.apply(lambda x: np.median(x))\n",
    "    X['z_median_fft'] = z_list_fft.apply(lambda x: np.median(x))\n",
    "    \n",
    "    X['x_mad_fft'] = x_list_fft.apply(lambda x: np.median(np.absolute(x - np.median(x))))\n",
    "    X['y_mad_fft'] = y_list_fft.apply(lambda x: np.median(np.absolute(x - np.median(x))))\n",
    "    X['z_mad_fft'] = z_list_fft.apply(lambda x: np.median(np.absolute(x - np.median(x))))\n",
    "    \n",
    "    X['x_IQR_fft'] = x_list_fft.apply(lambda x: np.percentile(x, 75) - np.percentile(x, 25))\n",
    "    X['y_IQR_fft'] = y_list_fft.apply(lambda x: np.percentile(x, 75) - np.percentile(x, 25))\n",
    "    X['z_IQR_fft'] = z_list_fft.apply(lambda x: np.percentile(x, 75) - np.percentile(x, 25))\n",
    "    \n",
    "    X['x_above_mean_fft'] = x_list_fft.apply(lambda x: np.sum(x > x.mean()))\n",
    "    X['y_above_mean_fft'] = y_list_fft.apply(lambda x: np.sum(x > x.mean()))\n",
    "    X['z_above_mean_fft'] = z_list_fft.apply(lambda x: np.sum(x > x.mean()))\n",
    "\n",
    "    X['x_peak_count_fft'] = x_list_fft.apply(lambda x: len(find_peaks(x)[0]))\n",
    "    X['y_peak_count_fft'] = y_list_fft.apply(lambda x: len(find_peaks(x)[0]))\n",
    "    X['z_peak_count_fft'] = z_list_fft.apply(lambda x: len(find_peaks(x)[0]))\n",
    "\n",
    "    X['x_skewness_fft'] = x_list_fft.apply(lambda x: stats.skew(x))\n",
    "    X['y_skewness_fft'] = y_list_fft.apply(lambda x: stats.skew(x))\n",
    "    X['z_skewness_fft'] = z_list_fft.apply(lambda x: stats.skew(x))\n",
    "    \n",
    "    X['x_kurtosis_fft'] = x_list_fft.apply(lambda x: stats.kurtosis(x))\n",
    "    X['y_kurtosis_fft'] = y_list_fft.apply(lambda x: stats.kurtosis(x))\n",
    "    X['z_kurtosis_fft'] = z_list_fft.apply(lambda x: stats.kurtosis(x))\n",
    "    \n",
    "    X['x_energy_fft'] = x_list_fft.apply(lambda x: np.sum(x**2)/50)\n",
    "    X['y_energy_fft'] = y_list_fft.apply(lambda x: np.sum(x**2)/50)\n",
    "    X['z_energy_fft'] = z_list_fft.apply(lambda x: np.sum(x**2)/50)\n",
    "    \n",
    "    X['avg_result_accl_fft'] = [i.mean() for i in ((pd.Series(x_list_fft)**2 + pd.Series(y_list_fft)**2 + pd.Series(z_list_fft)**2)**0.5)]\n",
    "    \n",
    "    X['sma_fft'] = x_list_fft.apply(lambda x: np.sum(abs(x)/50)) + y_list_fft.apply(lambda x: np.sum(abs(x)/50)) + z_list_fft.apply(lambda x: np.sum(abs(x)/50))\n",
    "\n",
    "    # X['speed'] = df['speed']\n",
    "    \n",
    "    y = np.array(labels)\n",
    "    return X, y\n"
   ],
   "id": "19800aa568396a00",
   "outputs": [],
   "execution_count": 6
  },
  {
   "metadata": {
    "ExecuteTime": {
     "end_time": "2024-12-05T14:20:24.484590Z",
     "start_time": "2024-12-05T14:20:24.480655Z"
    }
   },
   "cell_type": "code",
   "source": [
    "# Function to plot confusion matrix\n",
    "def plot_confusion_matrix(y_true, y_pred, title, filename):\n",
    "    cm = confusion_matrix(y_true, y_pred)\n",
    "    plt.figure(figsize=(10, 7))\n",
    "    sns.heatmap(cm, annot=True, fmt='d', cmap='Blues', xticklabels=range(num_classes), yticklabels=range(num_classes))\n",
    "    plt.xlabel('Predicted')\n",
    "    plt.ylabel('True')\n",
    "    plt.title(title)\n",
    "    plt.savefig(filename)\n",
    "    plt.close()"
   ],
   "id": "31051b41ae9bfe63",
   "outputs": [],
   "execution_count": 7
  },
  {
   "metadata": {
    "ExecuteTime": {
     "end_time": "2024-12-05T14:20:24.553578Z",
     "start_time": "2024-12-05T14:20:24.551426Z"
    }
   },
   "cell_type": "code",
   "source": [
    "def save_classification_report(y_true, y_pred, filename):\n",
    "    report = classification_report(y_true, y_pred)\n",
    "    with open(filename, 'w') as file:\n",
    "        file.write(report)"
   ],
   "id": "532ec15c709c7d19",
   "outputs": [],
   "execution_count": 8
  },
  {
   "metadata": {
    "ExecuteTime": {
     "end_time": "2024-12-05T14:20:24.606508Z",
     "start_time": "2024-12-05T14:20:24.603948Z"
    }
   },
   "cell_type": "code",
   "source": [
    "# creating overlapping windows of size window-size 400 (200 hz * 2 seconds = 400 frame windows for 2 seconds)\n",
    "window_size = 400\n",
    "step_size = 200"
   ],
   "id": "8b422bdbd74ac46c",
   "outputs": [],
   "execution_count": 9
  },
  {
   "metadata": {
    "ExecuteTime": {
     "end_time": "2024-12-05T14:20:24.636173Z",
     "start_time": "2024-12-05T14:20:24.634034Z"
    }
   },
   "cell_type": "code",
   "source": [
    "output_dir = '../Results'\n",
    "os.makedirs(output_dir, exist_ok=True)"
   ],
   "id": "c2f4f7b602e690c4",
   "outputs": [],
   "execution_count": 10
  },
  {
   "metadata": {},
   "cell_type": "markdown",
   "source": "### Models",
   "id": "c9f4842c147db28"
  },
  {
   "metadata": {},
   "cell_type": "markdown",
   "source": "#### All sensors",
   "id": "bef30f5e6008531b"
  },
  {
   "metadata": {
    "ExecuteTime": {
     "end_time": "2024-12-05T14:21:05.514759Z",
     "start_time": "2024-12-05T14:20:24.668741Z"
    }
   },
   "cell_type": "code",
   "source": [
    "df_train, df_test = train_test()\n",
    "X_train, y_train = extract_features(df_train, window_size, step_size)\n",
    "X_test, y_test = extract_features(df_test, window_size, step_size)\n",
    "\n",
    "# Standardization\n",
    "scaler = StandardScaler()\n",
    "X_train = scaler.fit_transform(X_train)\n",
    "X_test = scaler.transform(X_test)"
   ],
   "id": "5d952f573293a456",
   "outputs": [],
   "execution_count": 11
  },
  {
   "metadata": {
    "ExecuteTime": {
     "end_time": "2024-12-05T14:21:14.052700Z",
     "start_time": "2024-12-05T14:21:05.518771Z"
    }
   },
   "cell_type": "code",
   "source": [
    "# KNN model\n",
    "knn_model = KNeighborsClassifier(n_jobs=1) # Create KNN model\n",
    "knn_model.fit(X_train, y_train) # Fit the model\n",
    "y_pred_knn = knn_model.predict(X_test) # Make predictions\n",
    "\n",
    "# Evaluate the model\n",
    "accuracy_knn = accuracy_score(y_test, y_pred_knn)\n",
    "print(\"KNN Model:\")\n",
    "print(\"Accuracy:\", accuracy_knn)\n",
    "print(\"\\n -------------Classification Report-------------\\n\")\n",
    "print(classification_report(y_test, y_pred_knn))\n",
    "\n",
    "# Save the results\n",
    "# plot_confusion_matrix(y_test, y_pred_knn, 'KNN - All sensors', 'Results/Medium_speed/{0} classes/knn_all_sensors.png'.format(num_classes))\n",
    "# save_classification_report(y_test, y_pred_knn, 'Results/Medium_speed/{0} classes/knn_all_sensors.txt'.format(num_classes))\n",
    "\n",
    "# Decision Tree model\n",
    "dt_model = DecisionTreeClassifier(random_state=42) # Create Decision Tree model\n",
    "dt_model.fit(X_train, y_train) # Fit the model\n",
    "y_pred_dt = dt_model.predict(X_test) # Make predictions\n",
    "\n",
    "# Evaluate the model\n",
    "accuracy_dt = accuracy_score(y_test, y_pred_dt)\n",
    "print(\"Decision Tree Model:\")\n",
    "print(\"Accuracy:\", accuracy_dt)\n",
    "print(\"\\n -------------Classification Report-------------\\n\")\n",
    "print(classification_report(y_test, y_pred_dt))\n",
    "\n",
    "# Save the results\n",
    "# plot_confusion_matrix(y_test, y_pred_dt, 'Decision Tree - All sensors', 'Results/Medium_speed/{0} classes/dt_all_sensors.png'.format(num_classes))\n",
    "# save_classification_report(y_test, y_pred_dt, 'Results/Medium_speed/{0} classes/dt_all_sensors.txt'.format(num_classes))\n",
    "\n",
    "# SVM model\n",
    "svm_model = SVC(kernel='linear', C=1.0, random_state=42) # Create SVM model\n",
    "svm_model.fit(X_train, y_train) # Fit the model\n",
    "y_pred_svm = svm_model.predict(X_test) # Make predictions\n",
    "\n",
    "# Evaluate the model\n",
    "accuracy_svm = accuracy_score(y_test, y_pred_svm)\n",
    "print(\"SVM Model:\")\n",
    "print(\"Accuracy:\", accuracy_svm)\n",
    "print(\"\\n -------------Classification Report-------------\\n\")\n",
    "print(classification_report(y_test, y_pred_svm))\n",
    "\n",
    "# Save the results\n",
    "# plot_confusion_matrix(y_test, y_pred_svm, 'SVM - All sensors', 'Results/Medium_speed/{0} classes/svm_all_sensors.png'.format(num_classes))\n",
    "# save_classification_report(y_test, y_pred_svm, 'Results/Medium_speed/{0} classes/svm_all_sensors.txt'.format(num_classes))\n",
    "\n",
    "# Logistic Regression model\n",
    "model_lr = LogisticRegression(max_iter=1000, random_state=42) # Create Logistic Regression model\n",
    "model_lr.fit(X_train, y_train) # Fit the model\n",
    "y_pred = model_lr.predict(X_test) # Make predictions\n",
    "\n",
    "# Evaluate the model\n",
    "accuracy_lr = accuracy_score(y_test, y_pred)\n",
    "print(\"Logistic Regression Model:\")\n",
    "print(\"Accuracy:\", accuracy_lr)\n",
    "print(\"\\n -------------Classification Report-------------\\n\")\n",
    "print(classification_report(y_test, y_pred))\n",
    "\n",
    "# Save the results\n",
    "# plot_confusion_matrix(y_test, y_pred, 'Logistic Regression - All sensors', 'Results/Medium_speed/{0} classes/lr_all_sensors.png'.format(num_classes))\n",
    "# save_classification_report(y_test, y_pred, 'Results/Medium_speed/{0} classes/lr_all_sensors.txt'.format(num_classes))"
   ],
   "id": "a46329d3cc963caf",
   "outputs": [
    {
     "name": "stdout",
     "output_type": "stream",
     "text": [
      "KNN Model:\n",
      "Accuracy: 0.4183030752130419\n",
      "\n",
      " -------------Classification Report-------------\n",
      "\n",
      "              precision    recall  f1-score   support\n",
      "\n",
      "           0       0.40      0.68      0.50      1800\n",
      "           1       0.32      0.23      0.27      1800\n",
      "           2       0.60      0.34      0.44      1798\n",
      "\n",
      "    accuracy                           0.42      5398\n",
      "   macro avg       0.44      0.42      0.40      5398\n",
      "weighted avg       0.44      0.42      0.40      5398\n",
      "\n",
      "Decision Tree Model:\n",
      "Accuracy: 0.4271952575027788\n",
      "\n",
      " -------------Classification Report-------------\n",
      "\n",
      "              precision    recall  f1-score   support\n",
      "\n",
      "           0       0.41      0.53      0.47      1800\n",
      "           1       0.35      0.32      0.33      1800\n",
      "           2       0.54      0.43      0.48      1798\n",
      "\n",
      "    accuracy                           0.43      5398\n",
      "   macro avg       0.43      0.43      0.43      5398\n",
      "weighted avg       0.43      0.43      0.43      5398\n",
      "\n",
      "SVM Model:\n",
      "Accuracy: 0.44627639866617264\n",
      "\n",
      " -------------Classification Report-------------\n",
      "\n",
      "              precision    recall  f1-score   support\n",
      "\n",
      "           0       0.40      0.83      0.54      1800\n",
      "           1       0.19      0.04      0.07      1800\n",
      "           2       0.64      0.46      0.54      1798\n",
      "\n",
      "    accuracy                           0.45      5398\n",
      "   macro avg       0.41      0.45      0.38      5398\n",
      "weighted avg       0.41      0.45      0.38      5398\n",
      "\n",
      "Logistic Regression Model:\n",
      "Accuracy: 0.4486846980363097\n",
      "\n",
      " -------------Classification Report-------------\n",
      "\n",
      "              precision    recall  f1-score   support\n",
      "\n",
      "           0       0.41      0.77      0.53      1800\n",
      "           1       0.25      0.08      0.13      1800\n",
      "           2       0.64      0.49      0.55      1798\n",
      "\n",
      "    accuracy                           0.45      5398\n",
      "   macro avg       0.43      0.45      0.40      5398\n",
      "weighted avg       0.43      0.45      0.40      5398\n",
      "\n"
     ]
    }
   ],
   "execution_count": 12
  },
  {
   "metadata": {},
   "cell_type": "markdown",
   "source": "#### Sensor 561 - On the head tube",
   "id": "7c419fddcd30b030"
  },
  {
   "metadata": {
    "ExecuteTime": {
     "end_time": "2024-12-05T14:21:14.958185Z",
     "start_time": "2024-12-05T14:21:14.064257Z"
    }
   },
   "cell_type": "code",
   "source": [
    "df_train, df_test = train_test()\n",
    "# Now only use the node-id 561\n",
    "df_train = df_train[df_train['node-id'] == 561]\n",
    "df_test = df_test[df_test['node-id'] == 561]\n",
    "df_train = df_train.reset_index(drop=True)\n",
    "df_test = df_test.reset_index(drop=True)"
   ],
   "id": "892b63ffb9edc812",
   "outputs": [],
   "execution_count": 13
  },
  {
   "metadata": {
    "ExecuteTime": {
     "end_time": "2024-12-05T14:21:28.280579Z",
     "start_time": "2024-12-05T14:21:14.968818Z"
    }
   },
   "cell_type": "code",
   "source": [
    "X_train, y_train = extract_features(df_train, window_size, step_size)\n",
    "X_test, y_test = extract_features(df_test, window_size, step_size)\n",
    "# Standardization\n",
    "scaler = StandardScaler()\n",
    "X_train = scaler.fit_transform(X_train)\n",
    "X_test = scaler.transform(X_test)"
   ],
   "id": "5884665f2c85f96e",
   "outputs": [],
   "execution_count": 14
  },
  {
   "metadata": {
    "ExecuteTime": {
     "end_time": "2024-12-05T14:21:29.000067Z",
     "start_time": "2024-12-05T14:21:28.291064Z"
    }
   },
   "cell_type": "code",
   "source": [
    "# KNN model\n",
    "knn_model = KNeighborsClassifier(n_jobs=1) # Create KNN model\n",
    "knn_model.fit(X_train, y_train) # Fit the model\n",
    "y_pred_knn = knn_model.predict(X_test) # Make predictions\n",
    "\n",
    "# Evaluate the model\n",
    "accuracy_knn = accuracy_score(y_test, y_pred_knn)\n",
    "print(\"KNN Model:\")\n",
    "print(\"Accuracy:\", accuracy_knn)\n",
    "print(\"\\n -------------Classification Report-------------\\n\")\n",
    "print(classification_report(y_test, y_pred_knn))\n",
    "\n",
    "# Save the results\n",
    "plot_confusion_matrix(y_test, y_pred_knn, 'KNN - Sensor 561', 'Results/Medium_speed/{0} classes/knn_sensor_561.png'.format(num_classes))\n",
    "save_classification_report(y_test, y_pred_knn, 'Results/Medium_speed/{0} classes/knn_sensor_561.txt'.format(num_classes))\n",
    "\n",
    "# Decision Tree model\n",
    "dt_model = DecisionTreeClassifier(random_state=42) # Create Decision Tree model\n",
    "dt_model.fit(X_train, y_train) # Fit the model\n",
    "y_pred_dt = dt_model.predict(X_test) # Make predictions\n",
    "\n",
    "# Evaluate the model\n",
    "accuracy_dt = accuracy_score(y_test, y_pred_dt)\n",
    "print(\"Decision Tree Model:\")\n",
    "print(\"Accuracy:\", accuracy_dt)\n",
    "print(\"\\n -------------Classification Report-------------\\n\")\n",
    "print(classification_report(y_test, y_pred_dt))\n",
    "\n",
    "# Save the results\n",
    "plot_confusion_matrix(y_test, y_pred_dt, 'Decision Tree - Sensor 561', 'Results/Medium_speed/{0} classes/dt_sensor_561.png'.format(num_classes))\n",
    "save_classification_report(y_test, y_pred_dt, 'Results/Medium_speed/{0} classes/dt_sensor_561.txt'.format(num_classes))\n",
    "\n",
    "# SVM model\n",
    "svm_model = SVC(kernel='linear', C=1.0, random_state=42) # Create SVM model\n",
    "svm_model.fit(X_train, y_train) # Fit the model\n",
    "y_pred_svm = svm_model.predict(X_test) # Make predictions\n",
    "\n",
    "# Evaluate the model\n",
    "accuracy_svm = accuracy_score(y_test, y_pred_svm)\n",
    "print(\"SVM Model:\")\n",
    "print(\"Accuracy:\", accuracy_svm)\n",
    "print(\"\\n -------------Classification Report-------------\\n\")\n",
    "print(classification_report(y_test, y_pred_svm))\n",
    "\n",
    "# Save the results\n",
    "plot_confusion_matrix(y_test, y_pred_svm, 'SVM - Sensor 561', 'Results/Medium_speed/{0} classes/svm_sensor_561.png'.format(num_classes))\n",
    "save_classification_report(y_test, y_pred_svm, 'Results/Medium_speed/{0} classes/svm_sensor_561.txt'.format(num_classes))\n",
    "\n",
    "# Logistic Regression model\n",
    "model_lr = LogisticRegression(max_iter=1000, random_state=42) # Create Logistic Regression model\n",
    "model_lr.fit(X_train, y_train) # Fit the model\n",
    "y_pred = model_lr.predict(X_test) # Make predictions\n",
    "\n",
    "# Evaluate the model\n",
    "accuracy_lr = accuracy_score(y_test, y_pred)\n",
    "print(\"Logistic Regression Model:\")\n",
    "print(\"Accuracy:\", accuracy_lr)\n",
    "print(\"\\n -------------Classification Report-------------\\n\")\n",
    "print(classification_report(y_test, y_pred))\n",
    "\n",
    "# Save the results\n",
    "plot_confusion_matrix(y_test, y_pred, 'Logistic Regression - Sensor 561', 'Results/Medium_speed/{0} classes/lr_sensor_561.png'.format(num_classes))\n",
    "save_classification_report(y_test, y_pred, 'Results/Medium_speed/{0} classes/lr_sensor_561.txt'.format(num_classes))"
   ],
   "id": "54a6eb2ac0e1f611",
   "outputs": [
    {
     "name": "stdout",
     "output_type": "stream",
     "text": [
      "KNN Model:\n",
      "Accuracy: 0.38987764182424917\n",
      "\n",
      " -------------Classification Report-------------\n",
      "\n",
      "              precision    recall  f1-score   support\n",
      "\n",
      "           0       0.39      0.66      0.49       600\n",
      "           1       0.30      0.24      0.27       600\n",
      "           2       0.53      0.28      0.36       598\n",
      "\n",
      "    accuracy                           0.39      1798\n",
      "   macro avg       0.41      0.39      0.37      1798\n",
      "weighted avg       0.41      0.39      0.37      1798\n",
      "\n"
     ]
    },
    {
     "ename": "FileNotFoundError",
     "evalue": "[Errno 2] No such file or directory: 'D:\\\\Uni\\\\MOD12 - Research Project\\\\Research_Project\\\\Results\\\\Medium_speed\\\\3 classes\\\\knn_sensor_561.png'",
     "output_type": "error",
     "traceback": [
      "\u001B[1;31m---------------------------------------------------------------------------\u001B[0m",
      "\u001B[1;31mFileNotFoundError\u001B[0m                         Traceback (most recent call last)",
      "Cell \u001B[1;32mIn[15], line 14\u001B[0m\n\u001B[0;32m     11\u001B[0m \u001B[38;5;28mprint\u001B[39m(classification_report(y_test, y_pred_knn))\n\u001B[0;32m     13\u001B[0m \u001B[38;5;66;03m# Save the results\u001B[39;00m\n\u001B[1;32m---> 14\u001B[0m \u001B[43mplot_confusion_matrix\u001B[49m\u001B[43m(\u001B[49m\u001B[43my_test\u001B[49m\u001B[43m,\u001B[49m\u001B[43m \u001B[49m\u001B[43my_pred_knn\u001B[49m\u001B[43m,\u001B[49m\u001B[43m \u001B[49m\u001B[38;5;124;43m'\u001B[39;49m\u001B[38;5;124;43mKNN - Sensor 561\u001B[39;49m\u001B[38;5;124;43m'\u001B[39;49m\u001B[43m,\u001B[49m\u001B[43m \u001B[49m\u001B[38;5;124;43m'\u001B[39;49m\u001B[38;5;124;43mResults/Medium_speed/\u001B[39;49m\u001B[38;5;132;43;01m{0}\u001B[39;49;00m\u001B[38;5;124;43m classes/knn_sensor_561.png\u001B[39;49m\u001B[38;5;124;43m'\u001B[39;49m\u001B[38;5;241;43m.\u001B[39;49m\u001B[43mformat\u001B[49m\u001B[43m(\u001B[49m\u001B[43mnum_classes\u001B[49m\u001B[43m)\u001B[49m\u001B[43m)\u001B[49m\n\u001B[0;32m     15\u001B[0m save_classification_report(y_test, y_pred_knn, \u001B[38;5;124m'\u001B[39m\u001B[38;5;124mResults/Medium_speed/\u001B[39m\u001B[38;5;132;01m{0}\u001B[39;00m\u001B[38;5;124m classes/knn_sensor_561.txt\u001B[39m\u001B[38;5;124m'\u001B[39m\u001B[38;5;241m.\u001B[39mformat(num_classes))\n\u001B[0;32m     17\u001B[0m \u001B[38;5;66;03m# Decision Tree model\u001B[39;00m\n",
      "Cell \u001B[1;32mIn[7], line 9\u001B[0m, in \u001B[0;36mplot_confusion_matrix\u001B[1;34m(y_true, y_pred, title, filename)\u001B[0m\n\u001B[0;32m      7\u001B[0m plt\u001B[38;5;241m.\u001B[39mylabel(\u001B[38;5;124m'\u001B[39m\u001B[38;5;124mTrue\u001B[39m\u001B[38;5;124m'\u001B[39m)\n\u001B[0;32m      8\u001B[0m plt\u001B[38;5;241m.\u001B[39mtitle(title)\n\u001B[1;32m----> 9\u001B[0m \u001B[43mplt\u001B[49m\u001B[38;5;241;43m.\u001B[39;49m\u001B[43msavefig\u001B[49m\u001B[43m(\u001B[49m\u001B[43mfilename\u001B[49m\u001B[43m)\u001B[49m\n\u001B[0;32m     10\u001B[0m plt\u001B[38;5;241m.\u001B[39mclose()\n",
      "File \u001B[1;32m~\\AppData\\Local\\Programs\\Python\\Python312\\Lib\\site-packages\\matplotlib\\pyplot.py:1228\u001B[0m, in \u001B[0;36msavefig\u001B[1;34m(*args, **kwargs)\u001B[0m\n\u001B[0;32m   1225\u001B[0m fig \u001B[38;5;241m=\u001B[39m gcf()\n\u001B[0;32m   1226\u001B[0m \u001B[38;5;66;03m# savefig default implementation has no return, so mypy is unhappy\u001B[39;00m\n\u001B[0;32m   1227\u001B[0m \u001B[38;5;66;03m# presumably this is here because subclasses can return?\u001B[39;00m\n\u001B[1;32m-> 1228\u001B[0m res \u001B[38;5;241m=\u001B[39m \u001B[43mfig\u001B[49m\u001B[38;5;241;43m.\u001B[39;49m\u001B[43msavefig\u001B[49m\u001B[43m(\u001B[49m\u001B[38;5;241;43m*\u001B[39;49m\u001B[43margs\u001B[49m\u001B[43m,\u001B[49m\u001B[43m \u001B[49m\u001B[38;5;241;43m*\u001B[39;49m\u001B[38;5;241;43m*\u001B[39;49m\u001B[43mkwargs\u001B[49m\u001B[43m)\u001B[49m  \u001B[38;5;66;03m# type: ignore[func-returns-value]\u001B[39;00m\n\u001B[0;32m   1229\u001B[0m fig\u001B[38;5;241m.\u001B[39mcanvas\u001B[38;5;241m.\u001B[39mdraw_idle()  \u001B[38;5;66;03m# Need this if 'transparent=True', to reset colors.\u001B[39;00m\n\u001B[0;32m   1230\u001B[0m \u001B[38;5;28;01mreturn\u001B[39;00m res\n",
      "File \u001B[1;32m~\\AppData\\Local\\Programs\\Python\\Python312\\Lib\\site-packages\\matplotlib\\figure.py:3395\u001B[0m, in \u001B[0;36mFigure.savefig\u001B[1;34m(self, fname, transparent, **kwargs)\u001B[0m\n\u001B[0;32m   3393\u001B[0m     \u001B[38;5;28;01mfor\u001B[39;00m ax \u001B[38;5;129;01min\u001B[39;00m \u001B[38;5;28mself\u001B[39m\u001B[38;5;241m.\u001B[39maxes:\n\u001B[0;32m   3394\u001B[0m         _recursively_make_axes_transparent(stack, ax)\n\u001B[1;32m-> 3395\u001B[0m \u001B[38;5;28;43mself\u001B[39;49m\u001B[38;5;241;43m.\u001B[39;49m\u001B[43mcanvas\u001B[49m\u001B[38;5;241;43m.\u001B[39;49m\u001B[43mprint_figure\u001B[49m\u001B[43m(\u001B[49m\u001B[43mfname\u001B[49m\u001B[43m,\u001B[49m\u001B[43m \u001B[49m\u001B[38;5;241;43m*\u001B[39;49m\u001B[38;5;241;43m*\u001B[39;49m\u001B[43mkwargs\u001B[49m\u001B[43m)\u001B[49m\n",
      "File \u001B[1;32m~\\AppData\\Local\\Programs\\Python\\Python312\\Lib\\site-packages\\matplotlib\\backend_bases.py:2204\u001B[0m, in \u001B[0;36mFigureCanvasBase.print_figure\u001B[1;34m(self, filename, dpi, facecolor, edgecolor, orientation, format, bbox_inches, pad_inches, bbox_extra_artists, backend, **kwargs)\u001B[0m\n\u001B[0;32m   2200\u001B[0m \u001B[38;5;28;01mtry\u001B[39;00m:\n\u001B[0;32m   2201\u001B[0m     \u001B[38;5;66;03m# _get_renderer may change the figure dpi (as vector formats\u001B[39;00m\n\u001B[0;32m   2202\u001B[0m     \u001B[38;5;66;03m# force the figure dpi to 72), so we need to set it again here.\u001B[39;00m\n\u001B[0;32m   2203\u001B[0m     \u001B[38;5;28;01mwith\u001B[39;00m cbook\u001B[38;5;241m.\u001B[39m_setattr_cm(\u001B[38;5;28mself\u001B[39m\u001B[38;5;241m.\u001B[39mfigure, dpi\u001B[38;5;241m=\u001B[39mdpi):\n\u001B[1;32m-> 2204\u001B[0m         result \u001B[38;5;241m=\u001B[39m \u001B[43mprint_method\u001B[49m\u001B[43m(\u001B[49m\n\u001B[0;32m   2205\u001B[0m \u001B[43m            \u001B[49m\u001B[43mfilename\u001B[49m\u001B[43m,\u001B[49m\n\u001B[0;32m   2206\u001B[0m \u001B[43m            \u001B[49m\u001B[43mfacecolor\u001B[49m\u001B[38;5;241;43m=\u001B[39;49m\u001B[43mfacecolor\u001B[49m\u001B[43m,\u001B[49m\n\u001B[0;32m   2207\u001B[0m \u001B[43m            \u001B[49m\u001B[43medgecolor\u001B[49m\u001B[38;5;241;43m=\u001B[39;49m\u001B[43medgecolor\u001B[49m\u001B[43m,\u001B[49m\n\u001B[0;32m   2208\u001B[0m \u001B[43m            \u001B[49m\u001B[43morientation\u001B[49m\u001B[38;5;241;43m=\u001B[39;49m\u001B[43morientation\u001B[49m\u001B[43m,\u001B[49m\n\u001B[0;32m   2209\u001B[0m \u001B[43m            \u001B[49m\u001B[43mbbox_inches_restore\u001B[49m\u001B[38;5;241;43m=\u001B[39;49m\u001B[43m_bbox_inches_restore\u001B[49m\u001B[43m,\u001B[49m\n\u001B[0;32m   2210\u001B[0m \u001B[43m            \u001B[49m\u001B[38;5;241;43m*\u001B[39;49m\u001B[38;5;241;43m*\u001B[39;49m\u001B[43mkwargs\u001B[49m\u001B[43m)\u001B[49m\n\u001B[0;32m   2211\u001B[0m \u001B[38;5;28;01mfinally\u001B[39;00m:\n\u001B[0;32m   2212\u001B[0m     \u001B[38;5;28;01mif\u001B[39;00m bbox_inches \u001B[38;5;129;01mand\u001B[39;00m restore_bbox:\n",
      "File \u001B[1;32m~\\AppData\\Local\\Programs\\Python\\Python312\\Lib\\site-packages\\matplotlib\\backend_bases.py:2054\u001B[0m, in \u001B[0;36mFigureCanvasBase._switch_canvas_and_return_print_method.<locals>.<lambda>\u001B[1;34m(*args, **kwargs)\u001B[0m\n\u001B[0;32m   2050\u001B[0m     optional_kws \u001B[38;5;241m=\u001B[39m {  \u001B[38;5;66;03m# Passed by print_figure for other renderers.\u001B[39;00m\n\u001B[0;32m   2051\u001B[0m         \u001B[38;5;124m\"\u001B[39m\u001B[38;5;124mdpi\u001B[39m\u001B[38;5;124m\"\u001B[39m, \u001B[38;5;124m\"\u001B[39m\u001B[38;5;124mfacecolor\u001B[39m\u001B[38;5;124m\"\u001B[39m, \u001B[38;5;124m\"\u001B[39m\u001B[38;5;124medgecolor\u001B[39m\u001B[38;5;124m\"\u001B[39m, \u001B[38;5;124m\"\u001B[39m\u001B[38;5;124morientation\u001B[39m\u001B[38;5;124m\"\u001B[39m,\n\u001B[0;32m   2052\u001B[0m         \u001B[38;5;124m\"\u001B[39m\u001B[38;5;124mbbox_inches_restore\u001B[39m\u001B[38;5;124m\"\u001B[39m}\n\u001B[0;32m   2053\u001B[0m     skip \u001B[38;5;241m=\u001B[39m optional_kws \u001B[38;5;241m-\u001B[39m {\u001B[38;5;241m*\u001B[39minspect\u001B[38;5;241m.\u001B[39msignature(meth)\u001B[38;5;241m.\u001B[39mparameters}\n\u001B[1;32m-> 2054\u001B[0m     print_method \u001B[38;5;241m=\u001B[39m functools\u001B[38;5;241m.\u001B[39mwraps(meth)(\u001B[38;5;28;01mlambda\u001B[39;00m \u001B[38;5;241m*\u001B[39margs, \u001B[38;5;241m*\u001B[39m\u001B[38;5;241m*\u001B[39mkwargs: \u001B[43mmeth\u001B[49m\u001B[43m(\u001B[49m\n\u001B[0;32m   2055\u001B[0m \u001B[43m        \u001B[49m\u001B[38;5;241;43m*\u001B[39;49m\u001B[43margs\u001B[49m\u001B[43m,\u001B[49m\u001B[43m \u001B[49m\u001B[38;5;241;43m*\u001B[39;49m\u001B[38;5;241;43m*\u001B[39;49m\u001B[43m{\u001B[49m\u001B[43mk\u001B[49m\u001B[43m:\u001B[49m\u001B[43m \u001B[49m\u001B[43mv\u001B[49m\u001B[43m \u001B[49m\u001B[38;5;28;43;01mfor\u001B[39;49;00m\u001B[43m \u001B[49m\u001B[43mk\u001B[49m\u001B[43m,\u001B[49m\u001B[43m \u001B[49m\u001B[43mv\u001B[49m\u001B[43m \u001B[49m\u001B[38;5;129;43;01min\u001B[39;49;00m\u001B[43m \u001B[49m\u001B[43mkwargs\u001B[49m\u001B[38;5;241;43m.\u001B[39;49m\u001B[43mitems\u001B[49m\u001B[43m(\u001B[49m\u001B[43m)\u001B[49m\u001B[43m \u001B[49m\u001B[38;5;28;43;01mif\u001B[39;49;00m\u001B[43m \u001B[49m\u001B[43mk\u001B[49m\u001B[43m \u001B[49m\u001B[38;5;129;43;01mnot\u001B[39;49;00m\u001B[43m \u001B[49m\u001B[38;5;129;43;01min\u001B[39;49;00m\u001B[43m \u001B[49m\u001B[43mskip\u001B[49m\u001B[43m}\u001B[49m\u001B[43m)\u001B[49m)\n\u001B[0;32m   2056\u001B[0m \u001B[38;5;28;01melse\u001B[39;00m:  \u001B[38;5;66;03m# Let third-parties do as they see fit.\u001B[39;00m\n\u001B[0;32m   2057\u001B[0m     print_method \u001B[38;5;241m=\u001B[39m meth\n",
      "File \u001B[1;32m~\\AppData\\Local\\Programs\\Python\\Python312\\Lib\\site-packages\\matplotlib\\backends\\backend_agg.py:496\u001B[0m, in \u001B[0;36mFigureCanvasAgg.print_png\u001B[1;34m(self, filename_or_obj, metadata, pil_kwargs)\u001B[0m\n\u001B[0;32m    449\u001B[0m \u001B[38;5;28;01mdef\u001B[39;00m \u001B[38;5;21mprint_png\u001B[39m(\u001B[38;5;28mself\u001B[39m, filename_or_obj, \u001B[38;5;241m*\u001B[39m, metadata\u001B[38;5;241m=\u001B[39m\u001B[38;5;28;01mNone\u001B[39;00m, pil_kwargs\u001B[38;5;241m=\u001B[39m\u001B[38;5;28;01mNone\u001B[39;00m):\n\u001B[0;32m    450\u001B[0m \u001B[38;5;250m    \u001B[39m\u001B[38;5;124;03m\"\"\"\u001B[39;00m\n\u001B[0;32m    451\u001B[0m \u001B[38;5;124;03m    Write the figure to a PNG file.\u001B[39;00m\n\u001B[0;32m    452\u001B[0m \n\u001B[1;32m   (...)\u001B[0m\n\u001B[0;32m    494\u001B[0m \u001B[38;5;124;03m        *metadata*, including the default 'Software' key.\u001B[39;00m\n\u001B[0;32m    495\u001B[0m \u001B[38;5;124;03m    \"\"\"\u001B[39;00m\n\u001B[1;32m--> 496\u001B[0m     \u001B[38;5;28;43mself\u001B[39;49m\u001B[38;5;241;43m.\u001B[39;49m\u001B[43m_print_pil\u001B[49m\u001B[43m(\u001B[49m\u001B[43mfilename_or_obj\u001B[49m\u001B[43m,\u001B[49m\u001B[43m \u001B[49m\u001B[38;5;124;43m\"\u001B[39;49m\u001B[38;5;124;43mpng\u001B[39;49m\u001B[38;5;124;43m\"\u001B[39;49m\u001B[43m,\u001B[49m\u001B[43m \u001B[49m\u001B[43mpil_kwargs\u001B[49m\u001B[43m,\u001B[49m\u001B[43m \u001B[49m\u001B[43mmetadata\u001B[49m\u001B[43m)\u001B[49m\n",
      "File \u001B[1;32m~\\AppData\\Local\\Programs\\Python\\Python312\\Lib\\site-packages\\matplotlib\\backends\\backend_agg.py:445\u001B[0m, in \u001B[0;36mFigureCanvasAgg._print_pil\u001B[1;34m(self, filename_or_obj, fmt, pil_kwargs, metadata)\u001B[0m\n\u001B[0;32m    440\u001B[0m \u001B[38;5;250m\u001B[39m\u001B[38;5;124;03m\"\"\"\u001B[39;00m\n\u001B[0;32m    441\u001B[0m \u001B[38;5;124;03mDraw the canvas, then save it using `.image.imsave` (to which\u001B[39;00m\n\u001B[0;32m    442\u001B[0m \u001B[38;5;124;03m*pil_kwargs* and *metadata* are forwarded).\u001B[39;00m\n\u001B[0;32m    443\u001B[0m \u001B[38;5;124;03m\"\"\"\u001B[39;00m\n\u001B[0;32m    444\u001B[0m FigureCanvasAgg\u001B[38;5;241m.\u001B[39mdraw(\u001B[38;5;28mself\u001B[39m)\n\u001B[1;32m--> 445\u001B[0m \u001B[43mmpl\u001B[49m\u001B[38;5;241;43m.\u001B[39;49m\u001B[43mimage\u001B[49m\u001B[38;5;241;43m.\u001B[39;49m\u001B[43mimsave\u001B[49m\u001B[43m(\u001B[49m\n\u001B[0;32m    446\u001B[0m \u001B[43m    \u001B[49m\u001B[43mfilename_or_obj\u001B[49m\u001B[43m,\u001B[49m\u001B[43m \u001B[49m\u001B[38;5;28;43mself\u001B[39;49m\u001B[38;5;241;43m.\u001B[39;49m\u001B[43mbuffer_rgba\u001B[49m\u001B[43m(\u001B[49m\u001B[43m)\u001B[49m\u001B[43m,\u001B[49m\u001B[43m \u001B[49m\u001B[38;5;28;43mformat\u001B[39;49m\u001B[38;5;241;43m=\u001B[39;49m\u001B[43mfmt\u001B[49m\u001B[43m,\u001B[49m\u001B[43m \u001B[49m\u001B[43morigin\u001B[49m\u001B[38;5;241;43m=\u001B[39;49m\u001B[38;5;124;43m\"\u001B[39;49m\u001B[38;5;124;43mupper\u001B[39;49m\u001B[38;5;124;43m\"\u001B[39;49m\u001B[43m,\u001B[49m\n\u001B[0;32m    447\u001B[0m \u001B[43m    \u001B[49m\u001B[43mdpi\u001B[49m\u001B[38;5;241;43m=\u001B[39;49m\u001B[38;5;28;43mself\u001B[39;49m\u001B[38;5;241;43m.\u001B[39;49m\u001B[43mfigure\u001B[49m\u001B[38;5;241;43m.\u001B[39;49m\u001B[43mdpi\u001B[49m\u001B[43m,\u001B[49m\u001B[43m \u001B[49m\u001B[43mmetadata\u001B[49m\u001B[38;5;241;43m=\u001B[39;49m\u001B[43mmetadata\u001B[49m\u001B[43m,\u001B[49m\u001B[43m \u001B[49m\u001B[43mpil_kwargs\u001B[49m\u001B[38;5;241;43m=\u001B[39;49m\u001B[43mpil_kwargs\u001B[49m\u001B[43m)\u001B[49m\n",
      "File \u001B[1;32m~\\AppData\\Local\\Programs\\Python\\Python312\\Lib\\site-packages\\matplotlib\\image.py:1676\u001B[0m, in \u001B[0;36mimsave\u001B[1;34m(fname, arr, vmin, vmax, cmap, format, origin, dpi, metadata, pil_kwargs)\u001B[0m\n\u001B[0;32m   1674\u001B[0m pil_kwargs\u001B[38;5;241m.\u001B[39msetdefault(\u001B[38;5;124m\"\u001B[39m\u001B[38;5;124mformat\u001B[39m\u001B[38;5;124m\"\u001B[39m, \u001B[38;5;28mformat\u001B[39m)\n\u001B[0;32m   1675\u001B[0m pil_kwargs\u001B[38;5;241m.\u001B[39msetdefault(\u001B[38;5;124m\"\u001B[39m\u001B[38;5;124mdpi\u001B[39m\u001B[38;5;124m\"\u001B[39m, (dpi, dpi))\n\u001B[1;32m-> 1676\u001B[0m \u001B[43mimage\u001B[49m\u001B[38;5;241;43m.\u001B[39;49m\u001B[43msave\u001B[49m\u001B[43m(\u001B[49m\u001B[43mfname\u001B[49m\u001B[43m,\u001B[49m\u001B[43m \u001B[49m\u001B[38;5;241;43m*\u001B[39;49m\u001B[38;5;241;43m*\u001B[39;49m\u001B[43mpil_kwargs\u001B[49m\u001B[43m)\u001B[49m\n",
      "File \u001B[1;32m~\\AppData\\Local\\Programs\\Python\\Python312\\Lib\\site-packages\\PIL\\Image.py:2563\u001B[0m, in \u001B[0;36mImage.save\u001B[1;34m(self, fp, format, **params)\u001B[0m\n\u001B[0;32m   2561\u001B[0m         fp \u001B[38;5;241m=\u001B[39m builtins\u001B[38;5;241m.\u001B[39mopen(filename, \u001B[38;5;124m\"\u001B[39m\u001B[38;5;124mr+b\u001B[39m\u001B[38;5;124m\"\u001B[39m)\n\u001B[0;32m   2562\u001B[0m     \u001B[38;5;28;01melse\u001B[39;00m:\n\u001B[1;32m-> 2563\u001B[0m         fp \u001B[38;5;241m=\u001B[39m \u001B[43mbuiltins\u001B[49m\u001B[38;5;241;43m.\u001B[39;49m\u001B[43mopen\u001B[49m\u001B[43m(\u001B[49m\u001B[43mfilename\u001B[49m\u001B[43m,\u001B[49m\u001B[43m \u001B[49m\u001B[38;5;124;43m\"\u001B[39;49m\u001B[38;5;124;43mw+b\u001B[39;49m\u001B[38;5;124;43m\"\u001B[39;49m\u001B[43m)\u001B[49m\n\u001B[0;32m   2564\u001B[0m \u001B[38;5;28;01melse\u001B[39;00m:\n\u001B[0;32m   2565\u001B[0m     fp \u001B[38;5;241m=\u001B[39m cast(IO[\u001B[38;5;28mbytes\u001B[39m], fp)\n",
      "\u001B[1;31mFileNotFoundError\u001B[0m: [Errno 2] No such file or directory: 'D:\\\\Uni\\\\MOD12 - Research Project\\\\Research_Project\\\\Results\\\\Medium_speed\\\\3 classes\\\\knn_sensor_561.png'"
     ]
    },
    {
     "data": {
      "text/plain": [
       "<Figure size 1000x700 with 2 Axes>"
      ],
      "image/png": "[encoded data removed]"
     },
     "metadata": {},
     "output_type": "display_data"
    }
   ],
   "execution_count": 15
  },
  {
   "metadata": {},
   "cell_type": "markdown",
   "source": "#### Sensor 562 - Under the seat",
   "id": "c9ecc029e4939f18"
  },
  {
   "metadata": {},
   "cell_type": "code",
   "source": [
    "df_train, df_test = train_test()\n",
    "# Now only use the node-id 562\n",
    "df_train = df_train[df_train['node-id'] == 562]\n",
    "df_test = df_test[df_test['node-id'] == 562]"
   ],
   "id": "544bbcfab9ec3f0b",
   "outputs": [],
   "execution_count": null
  },
  {
   "metadata": {},
   "cell_type": "code",
   "source": [
    "X_train, y_train = extract_features(df_train, window_size, step_size)\n",
    "X_test, y_test = extract_features(df_test, window_size, step_size)\n",
    "# Standardization\n",
    "scaler = StandardScaler()\n",
    "X_train = scaler.fit_transform(X_train)\n",
    "X_test = scaler.transform(X_test)"
   ],
   "id": "a64c056169292c27",
   "outputs": [],
   "execution_count": null
  },
  {
   "metadata": {},
   "cell_type": "code",
   "source": [
    "# KNN model\n",
    "knn_model = KNeighborsClassifier(n_jobs=1) # Create KNN model\n",
    "knn_model.fit(X_train, y_train) # Fit the model\n",
    "y_pred_knn = knn_model.predict(X_test) # Make predictions\n",
    "\n",
    "# Evaluate the model\n",
    "accuracy_knn = accuracy_score(y_test, y_pred_knn)\n",
    "print(\"KNN Model:\")\n",
    "print(\"Accuracy:\", accuracy_knn)\n",
    "print(\"\\n -------------Classification Report-------------\\n\")\n",
    "print(classification_report(y_test, y_pred_knn))\n",
    "\n",
    "# Save the results\n",
    "# plot_confusion_matrix(y_test, y_pred_knn, 'KNN - Sensor 562', 'Results/Medium_speed/{0} classes/knn_sensor_562.png'.format(num_classes))\n",
    "# save_classification_report(y_test, y_pred_knn, 'Results/Medium_speed/{0} classes/knn_sensor_562.txt'.format(num_classes))\n",
    "\n",
    "# Decision Tree model\n",
    "dt_model = DecisionTreeClassifier(random_state=42) # Create Decision Tree model\n",
    "dt_model.fit(X_train, y_train) # Fit the model\n",
    "y_pred_dt = dt_model.predict(X_test) # Make predictions\n",
    "\n",
    "# Evaluate the model\n",
    "accuracy_dt = accuracy_score(y_test, y_pred_dt)\n",
    "print(\"Decision Tree Model:\")\n",
    "print(\"Accuracy:\", accuracy_dt)\n",
    "print(\"\\n -------------Classification Report-------------\\n\")\n",
    "print(classification_report(y_test, y_pred_dt))\n",
    "\n",
    "# Save the results\n",
    "# plot_confusion_matrix(y_test, y_pred_dt, 'Decision Tree - Sensor 562', 'Results/Medium_speed/{0} classes/dt_sensor_562.png'.format(num_classes))\n",
    "# save_classification_report(y_test, y_pred_dt, 'Results/Medium_speed/{0} classes/dt_sensor_562.txt'.format(num_classes))\n",
    "\n",
    "# SVM model\n",
    "svm_model = SVC(kernel='linear', C=1.0, random_state=42) # Create SVM model\n",
    "svm_model.fit(X_train, y_train) # Fit the model\n",
    "y_pred_svm = svm_model.predict(X_test) # Make predictions\n",
    "\n",
    "# Evaluate the model\n",
    "accuracy_svm = accuracy_score(y_test, y_pred_svm)\n",
    "print(\"SVM Model:\")\n",
    "print(\"Accuracy:\", accuracy_svm)\n",
    "print(\"\\n -------------Classification Report-------------\\n\")\n",
    "print(classification_report(y_test, y_pred_svm))\n",
    "\n",
    "# Save the results\n",
    "# plot_confusion_matrix(y_test, y_pred_svm, 'SVM - Sensor 562', 'Results/Medium_speed/{0} classes/svm_sensor_562.png'.format(num_classes))\n",
    "# save_classification_report(y_test, y_pred_svm, 'Results/Medium_speed/{0} classes/svm_sensor_562.txt'.format(num_classes))\n",
    "\n",
    "# Logistic Regression model\n",
    "model_lr = LogisticRegression(max_iter=1000, random_state=42) # Create Logistic Regression model\n",
    "model_lr.fit(X_train, y_train) # Fit the model\n",
    "y_pred = model_lr.predict(X_test) # Make predictions\n",
    "\n",
    "# Evaluate the model\n",
    "accuracy_lr = accuracy_score(y_test, y_pred)\n",
    "print(\"Logistic Regression Model:\")\n",
    "print(\"Accuracy:\", accuracy_lr)\n",
    "print(\"\\n -------------Classification Report-------------\\n\")\n",
    "print(classification_report(y_test, y_pred))\n",
    "\n",
    "# Save the results\n",
    "# plot_confusion_matrix(y_test, y_pred, 'Logistic Regression - Sensor 562', 'Results/Medium_speed/{0} classes/lr_sensor_562.png'.format(num_classes))\n",
    "# save_classification_report(y_test, y_pred, 'Results/Medium_speed/{0} classes/lr_sensor_562.txt'.format(num_classes))"
   ],
   "id": "9c9303deaaea09fc",
   "outputs": [],
   "execution_count": null
  },
  {
   "metadata": {},
   "cell_type": "markdown",
   "source": "#### Sensor 563 - Rear frame",
   "id": "5f84a57a373c2de4"
  },
  {
   "metadata": {},
   "cell_type": "code",
   "source": [
    "df_train, df_test = train_test()\n",
    "# Now only use the node-id 563\n",
    "df_train = df_train[df_train['node-id'] == 563]\n",
    "df_test = df_test[df_test['node-id'] == 563]"
   ],
   "id": "93495ea4be083d43",
   "outputs": [],
   "execution_count": null
  },
  {
   "metadata": {},
   "cell_type": "code",
   "source": [
    "X_train, y_train = extract_features(df_train, window_size, step_size)\n",
    "X_test, y_test = extract_features(df_test, window_size, step_size)\n",
    "# Standardization\n",
    "scaler = StandardScaler()\n",
    "X_train = scaler.fit_transform(X_train)\n",
    "X_test = scaler.transform(X_test)"
   ],
   "id": "abfbfca701691475",
   "outputs": [],
   "execution_count": null
  },
  {
   "metadata": {},
   "cell_type": "code",
   "source": [
    "# KNN model\n",
    "knn_model = KNeighborsClassifier(n_jobs=1) # Create KNN model\n",
    "knn_model.fit(X_train, y_train) # Fit the model\n",
    "y_pred_knn = knn_model.predict(X_test) # Make predictions\n",
    "\n",
    "# Evaluate the model\n",
    "accuracy_knn = accuracy_score(y_test, y_pred_knn)\n",
    "print(\"KNN Model:\")\n",
    "print(\"Accuracy:\", accuracy_knn)\n",
    "print(\"\\n -------------Classification Report-------------\\n\")\n",
    "print(classification_report(y_test, y_pred_knn))\n",
    "\n",
    "# Save the results\n",
    "plot_confusion_matrix(y_test, y_pred_knn, 'KNN - Sensor 563', 'Results/Medium_speed/{0} classes/knn_sensor_563.png'.format(num_classes))\n",
    "save_classification_report(y_test, y_pred_knn, 'Results/Medium_speed/{0} classes/knn_sensor_563.txt'.format(num_classes))\n",
    "\n",
    "# Decision Tree model\n",
    "dt_model = DecisionTreeClassifier(random_state=42) # Create Decision Tree model\n",
    "dt_model.fit(X_train, y_train) # Fit the model\n",
    "y_pred_dt = dt_model.predict(X_test) # Make predictions\n",
    "\n",
    "# Evaluate the model\n",
    "accuracy_dt = accuracy_score(y_test, y_pred_dt)\n",
    "print(\"Decision Tree Model:\")\n",
    "print(\"Accuracy:\", accuracy_dt)\n",
    "print(\"\\n -------------Classification Report-------------\\n\")\n",
    "print(classification_report(y_test, y_pred_dt))\n",
    "\n",
    "# Save the results\n",
    "plot_confusion_matrix(y_test, y_pred_dt, 'Decision Tree - Sensor 563', 'Results/Medium_speed/{0} classes/dt_sensor_563.png'.format(num_classes))\n",
    "save_classification_report(y_test, y_pred_dt, 'Results/Medium_speed/{0} classes/dt_sensor_563.txt'.format(num_classes))\n",
    "\n",
    "# SVM model\n",
    "svm_model = SVC(kernel='linear', C=1.0, random_state=42) # Create SVM model\n",
    "svm_model.fit(X_train, y_train) # Fit the model\n",
    "y_pred_svm = svm_model.predict(X_test) # Make predictions\n",
    "\n",
    "# Evaluate the model\n",
    "accuracy_svm = accuracy_score(y_test, y_pred_svm)\n",
    "print(\"SVM Model:\")\n",
    "print(\"Accuracy:\", accuracy_svm)\n",
    "print(\"\\n -------------Classification Report-------------\\n\")\n",
    "print(classification_report(y_test, y_pred_svm))\n",
    "\n",
    "# Save the results\n",
    "plot_confusion_matrix(y_test, y_pred_svm, 'SVM - Sensor 563', 'Results/Medium_speed/{0} classes/svm_sensor_563.png'.format(num_classes))\n",
    "save_classification_report(y_test, y_pred_svm, 'Results/Medium_speed/{0} classes/svm_sensor_563.txt'.format(num_classes))\n",
    "\n",
    "# Logistic Regression model\n",
    "model_lr = LogisticRegression(max_iter=1000, random_state=42) # Create Logistic Regression model\n",
    "model_lr.fit(X_train, y_train) # Fit the model\n",
    "y_pred = model_lr.predict(X_test) # Make predictions\n",
    "\n",
    "# Evaluate the model\n",
    "accuracy_lr = accuracy_score(y_test, y_pred)\n",
    "print(\"Logistic Regression Model:\")\n",
    "print(\"Accuracy:\", accuracy_lr)\n",
    "print(\"\\n -------------Classification Report-------------\\n\")\n",
    "print(classification_report(y_test, y_pred))\n",
    "\n",
    "# Save the results\n",
    "plot_confusion_matrix(y_test, y_pred, 'Logistic Regression - Sensor 563', 'Results/Medium_speed/{0} classes/lr_sensor_563.png'.format(num_classes))\n",
    "save_classification_report(y_test, y_pred, 'Results/Medium_speed/{0} classes/lr_sensor_563.txt'.format(num_classes))"
   ],
   "id": "138b67c504561af",
   "outputs": [],
   "execution_count": null
  }
 ],
 "metadata": {
  "kernelspec": {
   "display_name": "Python 3",
   "language": "python",
   "name": "python3"
  },
  "language_info": {
   "codemirror_mode": {
    "name": "ipython",
    "version": 2
   },
   "file_extension": ".py",
   "mimetype": "text/x-python",
   "name": "python",
   "nbconvert_exporter": "python",
   "pygments_lexer": "ipython2",
   "version": "2.7.6"
  }
 },
 "nbformat": 4,
 "nbformat_minor": 5
}
